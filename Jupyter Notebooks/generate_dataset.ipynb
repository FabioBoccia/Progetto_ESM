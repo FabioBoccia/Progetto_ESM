{
  "nbformat": 4,
  "nbformat_minor": 0,
  "metadata": {
    "colab": {
      "name": "Copy of generate_dataset.ipynb",
      "provenance": [],
      "collapsed_sections": [
        "4hdc6YonrvoC",
        "5gaAQZXTxFxD",
        "ftDWneY3zJZ5"
      ],
      "include_colab_link": true
    },
    "kernelspec": {
      "name": "python3",
      "display_name": "Python 3"
    },
    "language_info": {
      "name": "python"
    },
    "accelerator": "GPU"
  },
  "cells": [
    {
      "cell_type": "markdown",
      "metadata": {
        "id": "view-in-github",
        "colab_type": "text"
      },
      "source": [
        "<a href=\"https://colab.research.google.com/github/FabioBoccia/Progetto_ESM/blob/main/Jupyter%20Notebooks/generate_dataset.ipynb\" target=\"_parent\"><img src=\"https://colab.research.google.com/assets/colab-badge.svg\" alt=\"Open In Colab\"/></a>"
      ]
    },
    {
      "cell_type": "markdown",
      "metadata": {
        "id": "2U0NA9HrrZey"
      },
      "source": [
        "# Taming Transformers\n",
        "\n",
        "This notebook is a minimal working example to generate faces images as in [Taming Transformers for High-Resolution Image Synthesis](https://github.com/CompVis/taming-transformers)."
      ]
    },
    {
      "cell_type": "markdown",
      "metadata": {
        "id": "4hdc6YonrvoC"
      },
      "source": [
        "## Setup\n",
        "The setup code in this section was written to be [run in a Colab environment](https://colab.research.google.com/github/CompVis/taming-transformers/blob/master/scripts/taming-transformers.ipynb).\n",
        "It should be run only once per runtime.\n",
        "We first clone the repository and upload the model checkpoint and config from Google Drive"
      ]
    },
    {
      "cell_type": "code",
      "metadata": {
        "id": "Wwj8j_l201aF",
        "outputId": "b3fb106f-a241-487a-825f-938d27ac7301",
        "colab": {
          "base_uri": "https://localhost:8080/"
        }
      },
      "source": [
        "%cd /content\n",
        "%rm -r sample_data\n",
        "!git clone https://github.com/CompVis/taming-transformers\n",
        "%cd taming-transformers\n",
        "!mkdir -p logs\n",
        "\n",
        "from google.colab import drive\n",
        "drive.mount('/content/drive')\n",
        "!cp -r /content/drive/MyDrive/2021-04-23T18-19-01_ffhq_transformer logs/"
      ],
      "execution_count": 2,
      "outputs": [
        {
          "output_type": "stream",
          "name": "stdout",
          "text": [
            "/content\n",
            "rm: cannot remove 'sample_data': No such file or directory\n",
            "fatal: destination path 'taming-transformers' already exists and is not an empty directory.\n",
            "/content/taming-transformers\n",
            "Mounted at /content/drive\n"
          ]
        }
      ]
    },
    {
      "cell_type": "markdown",
      "metadata": {
        "id": "eeBqWgMQDjZb"
      },
      "source": [
        "Next, we install required dependencies."
      ]
    },
    {
      "cell_type": "code",
      "metadata": {
        "id": "hzQNmIuT_0uF",
        "colab": {
          "base_uri": "https://localhost:8080/",
          "height": 0
        },
        "outputId": "46e6d6f8-f153-4c82-8aec-397df7927f23"
      },
      "source": [
        "!pip install --upgrade omegaconf einops transformers pytorch-lightning"
      ],
      "execution_count": 3,
      "outputs": [
        {
          "output_type": "stream",
          "name": "stdout",
          "text": [
            "Looking in indexes: https://pypi.org/simple, https://us-python.pkg.dev/colab-wheels/public/simple/\n",
            "Collecting omegaconf\n",
            "  Downloading omegaconf-2.2.2-py3-none-any.whl (79 kB)\n",
            "\u001b[K     |████████████████████████████████| 79 kB 3.8 MB/s \n",
            "\u001b[?25hCollecting einops\n",
            "  Downloading einops-0.4.1-py3-none-any.whl (28 kB)\n",
            "Collecting transformers\n",
            "  Downloading transformers-4.19.2-py3-none-any.whl (4.2 MB)\n",
            "\u001b[K     |████████████████████████████████| 4.2 MB 31.4 MB/s \n",
            "\u001b[?25hCollecting pytorch-lightning\n",
            "  Downloading pytorch_lightning-1.6.4-py3-none-any.whl (585 kB)\n",
            "\u001b[K     |████████████████████████████████| 585 kB 60.9 MB/s \n",
            "\u001b[?25hCollecting PyYAML>=5.1.0\n",
            "  Downloading PyYAML-6.0-cp37-cp37m-manylinux_2_5_x86_64.manylinux1_x86_64.manylinux_2_12_x86_64.manylinux2010_x86_64.whl (596 kB)\n",
            "\u001b[K     |████████████████████████████████| 596 kB 67.0 MB/s \n",
            "\u001b[?25hCollecting antlr4-python3-runtime==4.9.*\n",
            "  Downloading antlr4-python3-runtime-4.9.3.tar.gz (117 kB)\n",
            "\u001b[K     |████████████████████████████████| 117 kB 65.2 MB/s \n",
            "\u001b[?25hRequirement already satisfied: filelock in /usr/local/lib/python3.7/dist-packages (from transformers) (3.7.0)\n",
            "Requirement already satisfied: packaging>=20.0 in /usr/local/lib/python3.7/dist-packages (from transformers) (21.3)\n",
            "Requirement already satisfied: importlib-metadata in /usr/local/lib/python3.7/dist-packages (from transformers) (4.11.4)\n",
            "Requirement already satisfied: numpy>=1.17 in /usr/local/lib/python3.7/dist-packages (from transformers) (1.21.6)\n",
            "Requirement already satisfied: requests in /usr/local/lib/python3.7/dist-packages (from transformers) (2.23.0)\n",
            "Collecting huggingface-hub<1.0,>=0.1.0\n",
            "  Downloading huggingface_hub-0.7.0-py3-none-any.whl (86 kB)\n",
            "\u001b[K     |████████████████████████████████| 86 kB 6.2 MB/s \n",
            "\u001b[?25hRequirement already satisfied: regex!=2019.12.17 in /usr/local/lib/python3.7/dist-packages (from transformers) (2019.12.20)\n",
            "Requirement already satisfied: tqdm>=4.27 in /usr/local/lib/python3.7/dist-packages (from transformers) (4.64.0)\n",
            "Collecting tokenizers!=0.11.3,<0.13,>=0.11.1\n",
            "  Downloading tokenizers-0.12.1-cp37-cp37m-manylinux_2_12_x86_64.manylinux2010_x86_64.whl (6.6 MB)\n",
            "\u001b[K     |████████████████████████████████| 6.6 MB 49.7 MB/s \n",
            "\u001b[?25hRequirement already satisfied: typing-extensions>=3.7.4.3 in /usr/local/lib/python3.7/dist-packages (from huggingface-hub<1.0,>=0.1.0->transformers) (4.2.0)\n",
            "Requirement already satisfied: pyparsing!=3.0.5,>=2.0.2 in /usr/local/lib/python3.7/dist-packages (from packaging>=20.0->transformers) (3.0.9)\n",
            "Collecting torchmetrics>=0.4.1\n",
            "  Downloading torchmetrics-0.9.0-py3-none-any.whl (418 kB)\n",
            "\u001b[K     |████████████████████████████████| 418 kB 64.9 MB/s \n",
            "\u001b[?25hRequirement already satisfied: torch>=1.8.* in /usr/local/lib/python3.7/dist-packages (from pytorch-lightning) (1.11.0+cu113)\n",
            "Collecting pyDeprecate>=0.3.1\n",
            "  Downloading pyDeprecate-0.3.2-py3-none-any.whl (10 kB)\n",
            "Collecting fsspec[http]!=2021.06.0,>=2021.05.0\n",
            "  Downloading fsspec-2022.5.0-py3-none-any.whl (140 kB)\n",
            "\u001b[K     |████████████████████████████████| 140 kB 69.0 MB/s \n",
            "\u001b[?25hRequirement already satisfied: tensorboard>=2.2.0 in /usr/local/lib/python3.7/dist-packages (from pytorch-lightning) (2.8.0)\n",
            "Requirement already satisfied: protobuf<=3.20.1 in /usr/local/lib/python3.7/dist-packages (from pytorch-lightning) (3.17.3)\n",
            "Collecting aiohttp\n",
            "  Downloading aiohttp-3.8.1-cp37-cp37m-manylinux_2_5_x86_64.manylinux1_x86_64.manylinux_2_12_x86_64.manylinux2010_x86_64.whl (1.1 MB)\n",
            "\u001b[K     |████████████████████████████████| 1.1 MB 54.1 MB/s \n",
            "\u001b[?25hRequirement already satisfied: six>=1.9 in /usr/local/lib/python3.7/dist-packages (from protobuf<=3.20.1->pytorch-lightning) (1.15.0)\n",
            "Requirement already satisfied: google-auth<3,>=1.6.3 in /usr/local/lib/python3.7/dist-packages (from tensorboard>=2.2.0->pytorch-lightning) (1.35.0)\n",
            "Requirement already satisfied: grpcio>=1.24.3 in /usr/local/lib/python3.7/dist-packages (from tensorboard>=2.2.0->pytorch-lightning) (1.46.3)\n",
            "Requirement already satisfied: google-auth-oauthlib<0.5,>=0.4.1 in /usr/local/lib/python3.7/dist-packages (from tensorboard>=2.2.0->pytorch-lightning) (0.4.6)\n",
            "Requirement already satisfied: setuptools>=41.0.0 in /usr/local/lib/python3.7/dist-packages (from tensorboard>=2.2.0->pytorch-lightning) (57.4.0)\n",
            "Requirement already satisfied: markdown>=2.6.8 in /usr/local/lib/python3.7/dist-packages (from tensorboard>=2.2.0->pytorch-lightning) (3.3.7)\n",
            "Requirement already satisfied: wheel>=0.26 in /usr/local/lib/python3.7/dist-packages (from tensorboard>=2.2.0->pytorch-lightning) (0.37.1)\n",
            "Requirement already satisfied: absl-py>=0.4 in /usr/local/lib/python3.7/dist-packages (from tensorboard>=2.2.0->pytorch-lightning) (1.0.0)\n",
            "Requirement already satisfied: tensorboard-plugin-wit>=1.6.0 in /usr/local/lib/python3.7/dist-packages (from tensorboard>=2.2.0->pytorch-lightning) (1.8.1)\n",
            "Requirement already satisfied: werkzeug>=0.11.15 in /usr/local/lib/python3.7/dist-packages (from tensorboard>=2.2.0->pytorch-lightning) (1.0.1)\n",
            "Requirement already satisfied: tensorboard-data-server<0.7.0,>=0.6.0 in /usr/local/lib/python3.7/dist-packages (from tensorboard>=2.2.0->pytorch-lightning) (0.6.1)\n",
            "Requirement already satisfied: pyasn1-modules>=0.2.1 in /usr/local/lib/python3.7/dist-packages (from google-auth<3,>=1.6.3->tensorboard>=2.2.0->pytorch-lightning) (0.2.8)\n",
            "Requirement already satisfied: cachetools<5.0,>=2.0.0 in /usr/local/lib/python3.7/dist-packages (from google-auth<3,>=1.6.3->tensorboard>=2.2.0->pytorch-lightning) (4.2.4)\n",
            "Requirement already satisfied: rsa<5,>=3.1.4 in /usr/local/lib/python3.7/dist-packages (from google-auth<3,>=1.6.3->tensorboard>=2.2.0->pytorch-lightning) (4.8)\n",
            "Requirement already satisfied: requests-oauthlib>=0.7.0 in /usr/local/lib/python3.7/dist-packages (from google-auth-oauthlib<0.5,>=0.4.1->tensorboard>=2.2.0->pytorch-lightning) (1.3.1)\n",
            "Requirement already satisfied: zipp>=0.5 in /usr/local/lib/python3.7/dist-packages (from importlib-metadata->transformers) (3.8.0)\n",
            "Requirement already satisfied: pyasn1<0.5.0,>=0.4.6 in /usr/local/lib/python3.7/dist-packages (from pyasn1-modules>=0.2.1->google-auth<3,>=1.6.3->tensorboard>=2.2.0->pytorch-lightning) (0.4.8)\n",
            "Requirement already satisfied: certifi>=2017.4.17 in /usr/local/lib/python3.7/dist-packages (from requests->transformers) (2022.5.18.1)\n",
            "Requirement already satisfied: idna<3,>=2.5 in /usr/local/lib/python3.7/dist-packages (from requests->transformers) (2.10)\n",
            "Requirement already satisfied: chardet<4,>=3.0.2 in /usr/local/lib/python3.7/dist-packages (from requests->transformers) (3.0.4)\n",
            "Requirement already satisfied: urllib3!=1.25.0,!=1.25.1,<1.26,>=1.21.1 in /usr/local/lib/python3.7/dist-packages (from requests->transformers) (1.24.3)\n",
            "Requirement already satisfied: oauthlib>=3.0.0 in /usr/local/lib/python3.7/dist-packages (from requests-oauthlib>=0.7.0->google-auth-oauthlib<0.5,>=0.4.1->tensorboard>=2.2.0->pytorch-lightning) (3.2.0)\n",
            "Requirement already satisfied: attrs>=17.3.0 in /usr/local/lib/python3.7/dist-packages (from aiohttp->fsspec[http]!=2021.06.0,>=2021.05.0->pytorch-lightning) (21.4.0)\n",
            "Collecting async-timeout<5.0,>=4.0.0a3\n",
            "  Downloading async_timeout-4.0.2-py3-none-any.whl (5.8 kB)\n",
            "Collecting asynctest==0.13.0\n",
            "  Downloading asynctest-0.13.0-py3-none-any.whl (26 kB)\n",
            "Collecting frozenlist>=1.1.1\n",
            "  Downloading frozenlist-1.3.0-cp37-cp37m-manylinux_2_5_x86_64.manylinux1_x86_64.manylinux_2_17_x86_64.manylinux2014_x86_64.whl (144 kB)\n",
            "\u001b[K     |████████████████████████████████| 144 kB 74.2 MB/s \n",
            "\u001b[?25hCollecting multidict<7.0,>=4.5\n",
            "  Downloading multidict-6.0.2-cp37-cp37m-manylinux_2_17_x86_64.manylinux2014_x86_64.whl (94 kB)\n",
            "\u001b[K     |████████████████████████████████| 94 kB 4.0 MB/s \n",
            "\u001b[?25hCollecting yarl<2.0,>=1.0\n",
            "  Downloading yarl-1.7.2-cp37-cp37m-manylinux_2_5_x86_64.manylinux1_x86_64.manylinux_2_12_x86_64.manylinux2010_x86_64.whl (271 kB)\n",
            "\u001b[K     |████████████████████████████████| 271 kB 71.9 MB/s \n",
            "\u001b[?25hRequirement already satisfied: charset-normalizer<3.0,>=2.0 in /usr/local/lib/python3.7/dist-packages (from aiohttp->fsspec[http]!=2021.06.0,>=2021.05.0->pytorch-lightning) (2.0.12)\n",
            "Collecting aiosignal>=1.1.2\n",
            "  Downloading aiosignal-1.2.0-py3-none-any.whl (8.2 kB)\n",
            "Building wheels for collected packages: antlr4-python3-runtime\n",
            "  Building wheel for antlr4-python3-runtime (setup.py) ... \u001b[?25l\u001b[?25hdone\n",
            "  Created wheel for antlr4-python3-runtime: filename=antlr4_python3_runtime-4.9.3-py3-none-any.whl size=144575 sha256=7770a0a11a2eeb20f4fd21a71c23fcf627e65b8a4c54b5665e35b51d9760a56b\n",
            "  Stored in directory: /root/.cache/pip/wheels/8b/8d/53/2af8772d9aec614e3fc65e53d4a993ad73c61daa8bbd85a873\n",
            "Successfully built antlr4-python3-runtime\n",
            "Installing collected packages: multidict, frozenlist, yarl, asynctest, async-timeout, aiosignal, PyYAML, fsspec, aiohttp, torchmetrics, tokenizers, pyDeprecate, huggingface-hub, antlr4-python3-runtime, transformers, pytorch-lightning, omegaconf, einops\n",
            "  Attempting uninstall: PyYAML\n",
            "    Found existing installation: PyYAML 3.13\n",
            "    Uninstalling PyYAML-3.13:\n",
            "      Successfully uninstalled PyYAML-3.13\n",
            "Successfully installed PyYAML-6.0 aiohttp-3.8.1 aiosignal-1.2.0 antlr4-python3-runtime-4.9.3 async-timeout-4.0.2 asynctest-0.13.0 einops-0.4.1 frozenlist-1.3.0 fsspec-2022.5.0 huggingface-hub-0.7.0 multidict-6.0.2 omegaconf-2.2.2 pyDeprecate-0.3.2 pytorch-lightning-1.6.4 tokenizers-0.12.1 torchmetrics-0.9.0 transformers-4.19.2 yarl-1.7.2\n"
          ]
        },
        {
          "output_type": "display_data",
          "data": {
            "application/vnd.colab-display-data+json": {
              "pip_warning": {
                "packages": [
                  "pydevd_plugins"
                ]
              }
            }
          },
          "metadata": {}
        }
      ]
    },
    {
      "cell_type": "markdown",
      "metadata": {
        "id": "5gaAQZXTxFxD"
      },
      "source": [
        "## Loading the model\n",
        "\n",
        "We load and print the config."
      ]
    },
    {
      "cell_type": "code",
      "metadata": {
        "id": "hUOUJaTj02Bq",
        "colab": {
          "base_uri": "https://localhost:8080/"
        },
        "outputId": "7d3f335a-97a1-4cb3-d0e1-fa3d721e7fff"
      },
      "source": [
        "import sys\n",
        "%cd /content/taming-transformers\n",
        "sys.path.append(\".\")\n",
        "from omegaconf import OmegaConf\n",
        "config_path = \"/content/taming-transformers/logs/2021-04-23T18-19-01_ffhq_transformer/configs/2021-04-23T18-19-01-project.yaml\"\n",
        "config = OmegaConf.load(config_path)\n",
        "import yaml\n",
        "print(yaml.dump(OmegaConf.to_container(config)))"
      ],
      "execution_count": 4,
      "outputs": [
        {
          "output_type": "stream",
          "name": "stdout",
          "text": [
            "/content/taming-transformers\n",
            "data:\n",
            "  params:\n",
            "    batch_size: 24\n",
            "    num_workers: 24\n",
            "    train:\n",
            "      params:\n",
            "        size: 256\n",
            "      target: taming.data.faceshq.FFHQTrain\n",
            "    validation:\n",
            "      params:\n",
            "        size: 256\n",
            "      target: taming.data.faceshq.FFHQValidation\n",
            "  target: cutlit.DataModuleFromConfig\n",
            "model:\n",
            "  base_learning_rate: 0.0625\n",
            "  params:\n",
            "    cond_stage_config: __is_unconditional__\n",
            "    first_stage_config:\n",
            "      params:\n",
            "        ddconfig:\n",
            "          attn_resolutions:\n",
            "          - 16\n",
            "          ch: 128\n",
            "          ch_mult:\n",
            "          - 1\n",
            "          - 1\n",
            "          - 2\n",
            "          - 2\n",
            "          - 4\n",
            "          double_z: false\n",
            "          dropout: 0.0\n",
            "          in_channels: 3\n",
            "          num_res_blocks: 2\n",
            "          out_ch: 3\n",
            "          resolution: 256\n",
            "          z_channels: 256\n",
            "        embed_dim: 256\n",
            "        lossconfig:\n",
            "          target: taming.modules.losses.vqperceptual.DummyLoss\n",
            "        n_embed: 1024\n",
            "      target: taming.models.vqgan.VQModel\n",
            "    first_stage_key: image\n",
            "    transformer_config:\n",
            "      params:\n",
            "        block_size: 256\n",
            "        n_embd: 1664\n",
            "        n_head: 16\n",
            "        n_layer: 24\n",
            "        vocab_size: 1024\n",
            "      target: taming.modules.transformer.mingpt.GPT\n",
            "  target: taming.models.cond_transformer.Net2NetTransformer\n",
            "\n"
          ]
        }
      ]
    },
    {
      "cell_type": "markdown",
      "metadata": {
        "id": "FzQqNgiLEJ9J"
      },
      "source": [
        "Instantiate the model and load the checkpoint."
      ]
    },
    {
      "cell_type": "code",
      "metadata": {
        "id": "sWvDDVoz3RB4",
        "colab": {
          "base_uri": "https://localhost:8080/"
        },
        "outputId": "966f1f46-f7d0-4c43-87a7-bf7807c843af"
      },
      "source": [
        "from taming.models.cond_transformer import Net2NetTransformer\n",
        "import torch\n",
        "model = Net2NetTransformer(**config.model.params)\n",
        "ckpt_path = \"/content/taming-transformers/logs/2021-04-23T18-19-01_ffhq_transformer/checkpoints/last.ckpt\"\n",
        "sd = torch.load(ckpt_path, map_location=\"cuda\")[\"state_dict\"]\n",
        "missing, unexpected = model.load_state_dict(sd, strict=False)"
      ],
      "execution_count": 5,
      "outputs": [
        {
          "output_type": "stream",
          "name": "stdout",
          "text": [
            "Working with z of shape (1, 256, 16, 16) = 65536 dimensions.\n",
            "Using no cond stage. Assuming the training is intended to be unconditional. Prepending 0 as a sos token.\n"
          ]
        }
      ]
    },
    {
      "cell_type": "code",
      "metadata": {
        "id": "iYN9cREY-r3N",
        "colab": {
          "base_uri": "https://localhost:8080/"
        },
        "outputId": "fd584198-5af7-4321-aa0c-58b63ea1c398"
      },
      "source": [
        "model.cuda().eval()\n",
        "torch.set_grad_enabled(False)"
      ],
      "execution_count": 6,
      "outputs": [
        {
          "output_type": "execute_result",
          "data": {
            "text/plain": [
              "<torch.autograd.grad_mode.set_grad_enabled at 0x7fe9bd1826d0>"
            ]
          },
          "metadata": {},
          "execution_count": 6
        }
      ]
    },
    {
      "cell_type": "markdown",
      "source": [
        "## Tuning Hyperparameters\n"
      ],
      "metadata": {
        "id": "29DGEB0cxT5F"
      }
    },
    {
      "cell_type": "code",
      "source": [
        "%cd /content\n",
        "!wget --no-check-certificate --user=corso --password=p2021corso http://www.grip.unina.it/download/corso/ffhq_real.zip\n",
        "!unzip -q ffhq_real.zip\n",
        "#!rm -d 0_real\n",
        "#!rm ffhq_real.zip\n",
        "%mkdir -p /content/ffhq/real\n",
        "%mkdir -p /content/ffhq/synthesized"
      ],
      "metadata": {
        "id": "XuxH4KeWf2IL",
        "colab": {
          "base_uri": "https://localhost:8080/"
        },
        "outputId": "cacd4bab-91f5-47ca-a703-176f66c24b29"
      },
      "execution_count": 7,
      "outputs": [
        {
          "output_type": "stream",
          "name": "stdout",
          "text": [
            "/content\n",
            "--2022-06-01 18:03:49--  http://www.grip.unina.it/download/corso/ffhq_real.zip\n",
            "Resolving www.grip.unina.it (www.grip.unina.it)... 143.225.28.237\n",
            "Connecting to www.grip.unina.it (www.grip.unina.it)|143.225.28.237|:80... connected.\n",
            "HTTP request sent, awaiting response... 301 Moved Permanently\n",
            "Location: https://www.grip.unina.it/download/corso/ffhq_real.zip [following]\n",
            "--2022-06-01 18:03:49--  https://www.grip.unina.it/download/corso/ffhq_real.zip\n",
            "Connecting to www.grip.unina.it (www.grip.unina.it)|143.225.28.237|:443... connected.\n",
            "WARNING: cannot verify www.grip.unina.it's certificate, issued by ‘CN=R3,O=Let's Encrypt,C=US’:\n",
            "  Unable to locally verify the issuer's authority.\n",
            "HTTP request sent, awaiting response... 401 Unauthorized\n",
            "Authentication selected: Basic realm=\"corso\"\n",
            "Reusing existing connection to www.grip.unina.it:443.\n",
            "HTTP request sent, awaiting response... 200 OK\n",
            "Length: 4072216854 (3.8G) [application/zip]\n",
            "Saving to: ‘ffhq_real.zip’\n",
            "\n",
            "ffhq_real.zip       100%[===================>]   3.79G  25.3MB/s    in 2m 34s  \n",
            "\n",
            "2022-06-01 18:06:24 (25.2 MB/s) - ‘ffhq_real.zip’ saved [4072216854/4072216854]\n",
            "\n"
          ]
        }
      ]
    },
    {
      "cell_type": "code",
      "source": [
        "%cd /content/taming-transformers\n",
        "from scripts.sample_fast import run\n",
        "from tqdm import tqdm\n",
        "from PIL import Image\n",
        "import numpy as np\n",
        "import os \n",
        "import tensorflow as tf\n",
        "%cd /content"
      ],
      "metadata": {
        "id": "FVD5XZKhxuHV",
        "colab": {
          "base_uri": "https://localhost:8080/"
        },
        "outputId": "ab13ca6a-846c-47b0-a9f8-2c18bffc53b0"
      },
      "execution_count": 8,
      "outputs": [
        {
          "output_type": "stream",
          "name": "stdout",
          "text": [
            "/content/taming-transformers\n",
            "/content\n"
          ]
        }
      ]
    },
    {
      "cell_type": "code",
      "source": [
        "## \n",
        "batch_size = 3\n",
        "\n",
        "trainmodel = tf.keras.models.load_model('/content/drive/MyDrive/my_keras_model.h5')\n",
        "\n",
        "logdir=\"/content/ffhq/synthesized/\"\n",
        "\n",
        "def loss(k, p, temp):\n",
        "    %rm /content/ffhq/synthesized/*\n",
        "    %cd /content/ffhq/real/\n",
        "    %mv * /content/0_real/\n",
        "    %cd /content/0_real/\n",
        "    %mv $(ls | shuf -n $num_samples) ../ffhq/real/\n",
        "    run(logdir, model, batch_size, temp, k, unconditional=model.be_unconditional, num_samples=num_samples, top_p=p)\n",
        "    dataset = tf.keras.utils.image_dataset_from_directory(\n",
        "        '/content/ffhq/',\n",
        "        labels='inferred',\n",
        "        label_mode='categorical',\n",
        "        color_mode='rgb',\n",
        "        batch_size=5,\n",
        "        image_size=(256, 256),\n",
        "        shuffle=True,\n",
        "        validation_split=0,\n",
        "        interpolation='bilinear',\n",
        "        crop_to_aspect_ratio=True,\n",
        "    )\n",
        "    loss, AUC, accuracy = trainmodel.evaluate(dataset)\n",
        "    print('||tested with top_k:', k, '- top_p:',p,'- temperature: ',t)\n",
        "    return AUC"
      ],
      "metadata": {
        "id": "ATQqlmXwxss1"
      },
      "execution_count": 9,
      "outputs": []
    },
    {
      "cell_type": "code",
      "source": [
        "# minimize AUC (loss function)\n",
        "import csv\n",
        "\n",
        "num_samples = 50\n",
        "ks = np.arange(185, 226, 10) # 205\n",
        "ps = np.arange(0.82, 0.91, 0.02) # 0.88\n",
        "ts = np.arange(1.12, 1.25, 0.03) # 1.15\n",
        "\n",
        "\n",
        "%cd /content/drive/MyDrive\n",
        "for x in range(5):\n",
        "    for y in range(5):\n",
        "        for z in range(5):\n",
        "            k = int(ks[z])\n",
        "            p = ps[y]\n",
        "            t = ts[x]\n",
        "            l = loss(k, p, t)\n",
        "            print(\"n:\",25*z+5*y+x+1)\n",
        "            test = (k, p, t, l)\n",
        "            with open ('/content/drive/MyDrive/export3.csv','a',newline = '') as csvfile:\n",
        "                my_writer = csv.writer(csvfile, delimiter = ',')\n",
        "                my_writer.writerow(test)\n",
        "                csvfile.close()"
      ],
      "metadata": {
        "id": "t-06XDxZiPyl",
        "colab": {
          "base_uri": "https://localhost:8080/"
        },
        "outputId": "2441e975-742b-429a-9297-9ef72c40e079"
      },
      "execution_count": 12,
      "outputs": [
        {
          "output_type": "stream",
          "name": "stdout",
          "text": [
            "/content/drive/MyDrive\n",
            "/content/ffhq/real\n",
            "/content/0_real\n",
            "Running in unconditional sampling mode, producing 35 samples.\n"
          ]
        },
        {
          "output_type": "stream",
          "name": "stderr",
          "text": [
            "Sampling: 12it [01:32,  7.72s/it]\n"
          ]
        },
        {
          "output_type": "stream",
          "name": "stdout",
          "text": [
            "Found 70 files belonging to 2 classes.\n",
            "14/14 [==============================] - 2s 55ms/step - loss: 0.1372 - auc: 0.9829 - accuracy: 0.9714\n",
            "||tested with top_k: 185 - top_p: 0.82 - temperature:  1.2400000000000002\n",
            "n: 1\n",
            "/content/ffhq/real\n",
            "/content/0_real\n",
            "Running in unconditional sampling mode, producing 35 samples.\n"
          ]
        },
        {
          "output_type": "stream",
          "name": "stderr",
          "text": [
            "Sampling: 12it [01:33,  7.82s/it]\n"
          ]
        },
        {
          "output_type": "stream",
          "name": "stdout",
          "text": [
            "Found 70 files belonging to 2 classes.\n",
            "14/14 [==============================] - 2s 63ms/step - loss: 0.0153 - auc: 1.0000 - accuracy: 1.0000\n",
            "||tested with top_k: 195 - top_p: 0.82 - temperature:  1.2400000000000002\n",
            "n: 2\n",
            "/content/ffhq/real\n",
            "/content/0_real\n",
            "Running in unconditional sampling mode, producing 35 samples.\n"
          ]
        },
        {
          "output_type": "stream",
          "name": "stderr",
          "text": [
            "Sampling: 12it [01:35,  7.97s/it]\n"
          ]
        },
        {
          "output_type": "stream",
          "name": "stdout",
          "text": [
            "Found 70 files belonging to 2 classes.\n",
            "14/14 [==============================] - 2s 52ms/step - loss: 0.1429 - auc: 0.9696 - accuracy: 0.9571\n",
            "||tested with top_k: 205 - top_p: 0.82 - temperature:  1.2400000000000002\n",
            "n: 3\n",
            "/content/ffhq/real\n",
            "/content/0_real\n",
            "Running in unconditional sampling mode, producing 35 samples.\n"
          ]
        },
        {
          "output_type": "stream",
          "name": "stderr",
          "text": [
            "Sampling: 12it [01:36,  8.06s/it]\n"
          ]
        },
        {
          "output_type": "stream",
          "name": "stdout",
          "text": [
            "Found 70 files belonging to 2 classes.\n",
            "14/14 [==============================] - 2s 58ms/step - loss: 0.1308 - auc: 0.9814 - accuracy: 0.9571\n",
            "||tested with top_k: 215 - top_p: 0.82 - temperature:  1.2400000000000002\n",
            "n: 4\n",
            "/content/ffhq/real\n",
            "/content/0_real\n",
            "Running in unconditional sampling mode, producing 35 samples.\n"
          ]
        },
        {
          "output_type": "stream",
          "name": "stderr",
          "text": [
            "Sampling: 12it [01:35,  7.99s/it]\n"
          ]
        },
        {
          "output_type": "stream",
          "name": "stdout",
          "text": [
            "Found 70 files belonging to 2 classes.\n",
            "14/14 [==============================] - 2s 61ms/step - loss: 0.0488 - auc: 0.9986 - accuracy: 0.9714\n",
            "||tested with top_k: 225 - top_p: 0.82 - temperature:  1.2400000000000002\n",
            "n: 5\n",
            "/content/ffhq/real\n",
            "/content/0_real\n",
            "Running in unconditional sampling mode, producing 35 samples.\n"
          ]
        },
        {
          "output_type": "stream",
          "name": "stderr",
          "text": [
            "Sampling: 12it [01:35,  7.95s/it]\n"
          ]
        },
        {
          "output_type": "stream",
          "name": "stdout",
          "text": [
            "Found 70 files belonging to 2 classes.\n",
            "14/14 [==============================] - 2s 63ms/step - loss: 0.1220 - auc: 0.9851 - accuracy: 0.9714\n",
            "||tested with top_k: 185 - top_p: 0.84 - temperature:  1.2400000000000002\n",
            "n: 4\n",
            "/content/ffhq/real\n",
            "/content/0_real\n",
            "Running in unconditional sampling mode, producing 35 samples.\n"
          ]
        },
        {
          "output_type": "stream",
          "name": "stderr",
          "text": [
            "Sampling: 12it [01:35,  7.96s/it]\n"
          ]
        },
        {
          "output_type": "stream",
          "name": "stdout",
          "text": [
            "Found 70 files belonging to 2 classes.\n",
            "14/14 [==============================] - 2s 61ms/step - loss: 0.1248 - auc: 0.9812 - accuracy: 0.9429\n",
            "||tested with top_k: 195 - top_p: 0.84 - temperature:  1.2400000000000002\n",
            "n: 8\n",
            "/content/ffhq/real\n",
            "/content/0_real\n",
            "Running in unconditional sampling mode, producing 35 samples.\n"
          ]
        },
        {
          "output_type": "stream",
          "name": "stderr",
          "text": [
            "Sampling: 12it [01:35,  7.96s/it]\n"
          ]
        },
        {
          "output_type": "stream",
          "name": "stdout",
          "text": [
            "Found 70 files belonging to 2 classes.\n",
            "14/14 [==============================] - 2s 61ms/step - loss: 0.0154 - auc: 1.0000 - accuracy: 1.0000\n",
            "||tested with top_k: 205 - top_p: 0.84 - temperature:  1.2400000000000002\n",
            "n: 12\n",
            "/content/ffhq/real\n",
            "/content/0_real\n",
            "Running in unconditional sampling mode, producing 35 samples.\n"
          ]
        },
        {
          "output_type": "stream",
          "name": "stderr",
          "text": [
            "Sampling: 12it [01:35,  7.96s/it]\n"
          ]
        },
        {
          "output_type": "stream",
          "name": "stdout",
          "text": [
            "Found 70 files belonging to 2 classes.\n",
            "14/14 [==============================] - 2s 58ms/step - loss: 0.0938 - auc: 0.9710 - accuracy: 0.9714\n",
            "||tested with top_k: 215 - top_p: 0.84 - temperature:  1.2400000000000002\n",
            "n: 16\n",
            "/content/ffhq/real\n",
            "/content/0_real\n",
            "Running in unconditional sampling mode, producing 35 samples.\n"
          ]
        },
        {
          "output_type": "stream",
          "name": "stderr",
          "text": [
            "Sampling: 12it [01:35,  7.96s/it]\n"
          ]
        },
        {
          "output_type": "stream",
          "name": "stdout",
          "text": [
            "Found 70 files belonging to 2 classes.\n",
            "14/14 [==============================] - 2s 62ms/step - loss: 0.1045 - auc: 0.9847 - accuracy: 0.9714\n",
            "||tested with top_k: 225 - top_p: 0.84 - temperature:  1.2400000000000002\n",
            "n: 20\n",
            "/content/ffhq/real\n",
            "/content/0_real\n",
            "Running in unconditional sampling mode, producing 35 samples.\n"
          ]
        },
        {
          "output_type": "stream",
          "name": "stderr",
          "text": [
            "Sampling: 12it [01:35,  7.97s/it]\n"
          ]
        },
        {
          "output_type": "stream",
          "name": "stdout",
          "text": [
            "Found 70 files belonging to 2 classes.\n",
            "14/14 [==============================] - 2s 56ms/step - loss: 0.0833 - auc: 0.9851 - accuracy: 0.9714\n",
            "||tested with top_k: 185 - top_p: 0.86 - temperature:  1.2400000000000002\n",
            "n: 9\n",
            "/content/ffhq/real\n",
            "/content/0_real\n",
            "Running in unconditional sampling mode, producing 35 samples.\n"
          ]
        },
        {
          "output_type": "stream",
          "name": "stderr",
          "text": [
            "Sampling: 12it [01:35,  7.97s/it]\n"
          ]
        },
        {
          "output_type": "stream",
          "name": "stdout",
          "text": [
            "Found 70 files belonging to 2 classes.\n",
            "14/14 [==============================] - 2s 53ms/step - loss: 0.0951 - auc: 0.9837 - accuracy: 0.9714\n",
            "||tested with top_k: 195 - top_p: 0.86 - temperature:  1.2400000000000002\n",
            "n: 18\n",
            "/content/ffhq/real\n",
            "/content/0_real\n",
            "Running in unconditional sampling mode, producing 35 samples.\n"
          ]
        },
        {
          "output_type": "stream",
          "name": "stderr",
          "text": [
            "Sampling: 12it [01:35,  7.95s/it]\n"
          ]
        },
        {
          "output_type": "stream",
          "name": "stdout",
          "text": [
            "Found 70 files belonging to 2 classes.\n",
            "14/14 [==============================] - 2s 57ms/step - loss: 0.1677 - auc: 0.9706 - accuracy: 0.9714\n",
            "||tested with top_k: 205 - top_p: 0.86 - temperature:  1.2400000000000002\n",
            "n: 27\n",
            "/content/ffhq/real\n",
            "/content/0_real\n",
            "Running in unconditional sampling mode, producing 35 samples.\n"
          ]
        },
        {
          "output_type": "stream",
          "name": "stderr",
          "text": [
            "Sampling: 12it [01:35,  7.97s/it]\n"
          ]
        },
        {
          "output_type": "stream",
          "name": "stdout",
          "text": [
            "Found 70 files belonging to 2 classes.\n",
            "14/14 [==============================] - 2s 56ms/step - loss: 0.0464 - auc: 0.9992 - accuracy: 0.9714\n",
            "||tested with top_k: 215 - top_p: 0.86 - temperature:  1.2400000000000002\n",
            "n: 36\n",
            "/content/ffhq/real\n",
            "/content/0_real\n",
            "Running in unconditional sampling mode, producing 35 samples.\n"
          ]
        },
        {
          "output_type": "stream",
          "name": "stderr",
          "text": [
            "Sampling: 12it [01:35,  7.97s/it]\n"
          ]
        },
        {
          "output_type": "stream",
          "name": "stdout",
          "text": [
            "Found 70 files belonging to 2 classes.\n",
            "14/14 [==============================] - 2s 50ms/step - loss: 0.2070 - auc: 0.9663 - accuracy: 0.9286\n",
            "||tested with top_k: 225 - top_p: 0.86 - temperature:  1.2400000000000002\n",
            "n: 45\n",
            "/content/ffhq/real\n",
            "/content/0_real\n",
            "Running in unconditional sampling mode, producing 35 samples.\n"
          ]
        },
        {
          "output_type": "stream",
          "name": "stderr",
          "text": [
            "Sampling: 12it [01:35,  7.96s/it]\n"
          ]
        },
        {
          "output_type": "stream",
          "name": "stdout",
          "text": [
            "Found 70 files belonging to 2 classes.\n",
            "14/14 [==============================] - 2s 52ms/step - loss: 0.0932 - auc: 0.9847 - accuracy: 0.9714\n",
            "||tested with top_k: 185 - top_p: 0.88 - temperature:  1.2400000000000002\n",
            "n: 16\n",
            "/content/ffhq/real\n",
            "/content/0_real\n",
            "Running in unconditional sampling mode, producing 35 samples.\n"
          ]
        },
        {
          "output_type": "stream",
          "name": "stderr",
          "text": [
            "Sampling: 12it [01:35,  7.98s/it]\n"
          ]
        },
        {
          "output_type": "stream",
          "name": "stdout",
          "text": [
            "Found 70 files belonging to 2 classes.\n",
            "14/14 [==============================] - 2s 58ms/step - loss: 0.0305 - auc: 0.9998 - accuracy: 0.9857\n",
            "||tested with top_k: 195 - top_p: 0.88 - temperature:  1.2400000000000002\n",
            "n: 32\n",
            "/content/ffhq/real\n",
            "/content/0_real\n",
            "Running in unconditional sampling mode, producing 35 samples.\n"
          ]
        },
        {
          "output_type": "stream",
          "name": "stderr",
          "text": [
            "Sampling: 12it [01:35,  7.97s/it]\n"
          ]
        },
        {
          "output_type": "stream",
          "name": "stdout",
          "text": [
            "Found 70 files belonging to 2 classes.\n",
            "14/14 [==============================] - 2s 60ms/step - loss: 0.0509 - auc: 0.9988 - accuracy: 0.9857\n",
            "||tested with top_k: 205 - top_p: 0.88 - temperature:  1.2400000000000002\n",
            "n: 48\n",
            "/content/ffhq/real\n",
            "/content/0_real\n",
            "Running in unconditional sampling mode, producing 35 samples.\n"
          ]
        },
        {
          "output_type": "stream",
          "name": "stderr",
          "text": [
            "Sampling: 12it [01:35,  7.99s/it]\n"
          ]
        },
        {
          "output_type": "stream",
          "name": "stdout",
          "text": [
            "Found 70 files belonging to 2 classes.\n",
            "14/14 [==============================] - 2s 53ms/step - loss: 0.0610 - auc: 0.9980 - accuracy: 0.9714\n",
            "||tested with top_k: 215 - top_p: 0.88 - temperature:  1.2400000000000002\n",
            "n: 64\n",
            "/content/ffhq/real\n",
            "/content/0_real\n",
            "Running in unconditional sampling mode, producing 35 samples.\n"
          ]
        },
        {
          "output_type": "stream",
          "name": "stderr",
          "text": [
            "Sampling: 12it [01:35,  7.96s/it]\n"
          ]
        },
        {
          "output_type": "stream",
          "name": "stdout",
          "text": [
            "Found 70 files belonging to 2 classes.\n",
            "14/14 [==============================] - 2s 60ms/step - loss: 0.1911 - auc: 0.9651 - accuracy: 0.9286\n",
            "||tested with top_k: 225 - top_p: 0.88 - temperature:  1.2400000000000002\n",
            "n: 80\n",
            "/content/ffhq/real\n",
            "/content/0_real\n",
            "Running in unconditional sampling mode, producing 35 samples.\n"
          ]
        },
        {
          "output_type": "stream",
          "name": "stderr",
          "text": [
            "Sampling: 12it [01:35,  7.96s/it]\n"
          ]
        },
        {
          "output_type": "stream",
          "name": "stdout",
          "text": [
            "Found 70 files belonging to 2 classes.\n",
            "14/14 [==============================] - 2s 57ms/step - loss: 0.2329 - auc: 0.9653 - accuracy: 0.9143\n",
            "||tested with top_k: 185 - top_p: 0.9 - temperature:  1.2400000000000002\n",
            "n: 25\n",
            "/content/ffhq/real\n",
            "/content/0_real\n",
            "Running in unconditional sampling mode, producing 35 samples.\n"
          ]
        },
        {
          "output_type": "stream",
          "name": "stderr",
          "text": [
            "Sampling: 12it [01:35,  7.97s/it]\n"
          ]
        },
        {
          "output_type": "stream",
          "name": "stdout",
          "text": [
            "Found 70 files belonging to 2 classes.\n",
            "14/14 [==============================] - 2s 54ms/step - loss: 0.0873 - auc: 0.9849 - accuracy: 0.9857\n",
            "||tested with top_k: 195 - top_p: 0.9 - temperature:  1.2400000000000002\n",
            "n: 50\n",
            "/content/ffhq/real\n",
            "/content/0_real\n",
            "Running in unconditional sampling mode, producing 35 samples.\n"
          ]
        },
        {
          "output_type": "stream",
          "name": "stderr",
          "text": [
            "Sampling: 12it [01:35,  7.96s/it]\n"
          ]
        },
        {
          "output_type": "stream",
          "name": "stdout",
          "text": [
            "Found 70 files belonging to 2 classes.\n",
            "14/14 [==============================] - 2s 56ms/step - loss: 0.3048 - auc: 0.9778 - accuracy: 0.9429\n",
            "||tested with top_k: 205 - top_p: 0.9 - temperature:  1.2400000000000002\n",
            "n: 75\n",
            "/content/ffhq/real\n",
            "/content/0_real\n",
            "Running in unconditional sampling mode, producing 35 samples.\n"
          ]
        },
        {
          "output_type": "stream",
          "name": "stderr",
          "text": [
            "Sampling: 12it [01:35,  7.96s/it]\n"
          ]
        },
        {
          "output_type": "stream",
          "name": "stdout",
          "text": [
            "Found 70 files belonging to 2 classes.\n",
            "14/14 [==============================] - 2s 72ms/step - loss: 0.1265 - auc: 0.9692 - accuracy: 0.9571\n",
            "||tested with top_k: 215 - top_p: 0.9 - temperature:  1.2400000000000002\n",
            "n: 100\n",
            "/content/ffhq/real\n",
            "/content/0_real\n",
            "Running in unconditional sampling mode, producing 35 samples.\n"
          ]
        },
        {
          "output_type": "stream",
          "name": "stderr",
          "text": [
            "Sampling: 12it [01:35,  7.95s/it]\n"
          ]
        },
        {
          "output_type": "stream",
          "name": "stdout",
          "text": [
            "Found 70 files belonging to 2 classes.\n",
            "14/14 [==============================] - 2s 59ms/step - loss: 0.2285 - auc: 0.9629 - accuracy: 0.9286\n",
            "||tested with top_k: 225 - top_p: 0.9 - temperature:  1.2400000000000002\n",
            "n: 125\n"
          ]
        }
      ]
    },
    {
      "cell_type": "markdown",
      "metadata": {
        "id": "ftDWneY3zJZ5"
      },
      "source": [
        "## Generate image samples\n",
        "Generated images will be saved in `logdir/samples/top_k_{top_k}_top_p_{top_p}/`\n",
        "as PNGs\n",
        "\n",
        "if you wish to display the generated images instead of saving them in logdir, \n",
        "set save = False\n"
      ]
    },
    {
      "cell_type": "code",
      "source": [
        "num_samples = 1000\n",
        "batch_size = 3\n",
        "top_k = 300\n",
        "top_p = 1.0\n",
        "temperature = 1.0\n",
        "\n",
        "save = True\n",
        "logdir=\"/content/drive/MyDrive/\"\n",
        "\n",
        "if (not a.isEmpty):\n",
        "    top_k = a[0].k\n",
        "    top_p = a[0].p \n",
        "    temperature = a[0].t"
      ],
      "metadata": {
        "id": "-CjPHdSRv_kv"
      },
      "execution_count": null,
      "outputs": []
    },
    {
      "cell_type": "code",
      "source": [
        "from scripts.sample_fast import sample_unconditional\n",
        "from tqdm import tqdm\n",
        "from PIL import Image\n",
        "import numpy as np\n",
        "\n",
        "def show_image(s):\n",
        "  s = s.detach().cpu().numpy().transpose(0,2,3,1)[0]\n",
        "  s = ((s+1.0)*127.5).clip(0,255).astype(np.uint8)\n",
        "  s = Image.fromarray(s)\n",
        "  display(s)\n",
        "\n",
        "@torch.no_grad()\n",
        "def run_live(model, batch_size, temperature, top_k, unconditional=True, num_samples=50000, top_p=None):\n",
        "    print(f\"Running in unconditional sampling mode, producing {num_samples} samples.\")\n",
        "    batches = [batch_size for _ in range(num_samples//batch_size)] + [num_samples % batch_size]\n",
        "    for n, bs in tqdm(enumerate(batches), desc=\"Sampling\"):\n",
        "        if bs == 0: break\n",
        "        logs = sample_unconditional(model, batch_size=bs, temperature=temperature, top_k=top_k, top_p=top_p)\n",
        "        show_image(logs[\"samples\"])"
      ],
      "metadata": {
        "id": "Jc36JX3yzDZU"
      },
      "execution_count": null,
      "outputs": []
    },
    {
      "cell_type": "code",
      "source": [
        "from scripts.sample_fast import run\n",
        "import os \n",
        "\n",
        "if save == True:\n",
        "    logdir = os.path.join(logdir, \"samples\", f\"top_k_{top_k}_top_p_{top_p}\")\n",
        "    print(f\"Logging to {logdir}\")\n",
        "    os.makedirs(logdir, exist_ok=True)\n",
        "    run(logdir, model, batch_size, temperature, top_k, unconditional=model.be_unconditional, num_samples=num_samples, top_p=top_p)\n",
        "else:\n",
        "    print(f\"Generating with top_k = {top_k}, top_p = {top_p}\")\n",
        "    run_live(model, batch_size, temperature, top_k, unconditional=model.be_unconditional, num_samples=num_samples, top_p=top_p)"
      ],
      "metadata": {
        "id": "XnF32AnQxnyA"
      },
      "execution_count": null,
      "outputs": []
    }
  ]
}