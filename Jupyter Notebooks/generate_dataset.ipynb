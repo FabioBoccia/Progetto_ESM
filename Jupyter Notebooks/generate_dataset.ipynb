{
  "nbformat": 4,
  "nbformat_minor": 0,
  "metadata": {
    "colab": {
      "name": "generate_dataset.ipynb",
      "provenance": [],
      "collapsed_sections": [
        "4hdc6YonrvoC",
        "5gaAQZXTxFxD"
      ],
      "mount_file_id": "https://github.com/FabioBoccia/Progetto_ESM/blob/dev/generate_dataset.ipynb",
      "authorship_tag": "ABX9TyM2sZ/UF3R62U3HMUqndc5/",
      "include_colab_link": true
    },
    "kernelspec": {
      "name": "python3",
      "display_name": "Python 3"
    },
    "language_info": {
      "name": "python"
    },
    "accelerator": "GPU"
  },
  "cells": [
    {
      "cell_type": "markdown",
      "metadata": {
        "id": "view-in-github",
        "colab_type": "text"
      },
      "source": [
        "<a href=\"https://colab.research.google.com/github/FabioBoccia/Progetto_ESM/blob/generation-hyperparameters-tuning/Jupyter%20Notebooks/generate_dataset.ipynb\" target=\"_parent\"><img src=\"https://colab.research.google.com/assets/colab-badge.svg\" alt=\"Open In Colab\"/></a>"
      ]
    },
    {
      "cell_type": "markdown",
      "metadata": {
        "id": "2U0NA9HrrZey"
      },
      "source": [
        "# Taming Transformers\n",
        "\n",
        "This notebook is a minimal working example to generate faces images as in [Taming Transformers for High-Resolution Image Synthesis](https://github.com/CompVis/taming-transformers)."
      ]
    },
    {
      "cell_type": "markdown",
      "metadata": {
        "id": "4hdc6YonrvoC"
      },
      "source": [
        "## Setup\n",
        "The setup code in this section was written to be [run in a Colab environment](https://colab.research.google.com/github/CompVis/taming-transformers/blob/master/scripts/taming-transformers.ipynb).\n",
        "It should be run only once per runtime.\n",
        "We first clone the repository and upload the model checkpoint and config from Google Drive"
      ]
    },
    {
      "cell_type": "code",
      "metadata": {
        "id": "Wwj8j_l201aF",
        "outputId": "28ca741a-dcc1-456e-e4d7-42be648c0a48",
        "colab": {
          "base_uri": "https://localhost:8080/",
          "height": 0
        }
      },
      "source": [
        "%cd /content\n",
        "%rm -r sample_data\n",
        "!git clone https://github.com/CompVis/taming-transformers\n",
        "%cd taming-transformers\n",
        "!mkdir -p logs\n",
        "\n",
        "from google.colab import drive\n",
        "drive.mount('/content/drive')\n",
        "!cp -r /content/drive/MyDrive/2021-04-23T18-19-01_ffhq_transformer logs/"
      ],
      "execution_count": 1,
      "outputs": [
        {
          "output_type": "stream",
          "name": "stdout",
          "text": [
            "/content\n",
            "Cloning into 'taming-transformers'...\n",
            "remote: Enumerating objects: 1335, done.\u001b[K\n",
            "remote: Total 1335 (delta 0), reused 0 (delta 0), pack-reused 1335\u001b[K\n",
            "Receiving objects: 100% (1335/1335), 409.77 MiB | 40.82 MiB/s, done.\n",
            "Resolving deltas: 100% (278/278), done.\n",
            "/content/taming-transformers\n",
            "Mounted at /content/drive\n"
          ]
        }
      ]
    },
    {
      "cell_type": "markdown",
      "metadata": {
        "id": "eeBqWgMQDjZb"
      },
      "source": [
        "Next, we install required dependencies."
      ]
    },
    {
      "cell_type": "code",
      "metadata": {
        "id": "hzQNmIuT_0uF",
        "outputId": "c2f68ce2-9c0e-402f-9a6c-fdebccf4377e",
        "colab": {
          "base_uri": "https://localhost:8080/",
          "height": 0
        }
      },
      "source": [
        "!pip install --upgrade omegaconf einops transformers pytorch-lightning"
      ],
      "execution_count": 1,
      "outputs": [
        {
          "output_type": "stream",
          "name": "stdout",
          "text": [
            "Looking in indexes: https://pypi.org/simple, https://us-python.pkg.dev/colab-wheels/public/simple/\n",
            "Requirement already satisfied: omegaconf in /usr/local/lib/python3.7/dist-packages (2.2.1)\n",
            "Requirement already satisfied: einops in /usr/local/lib/python3.7/dist-packages (0.4.1)\n",
            "Requirement already satisfied: transformers in /usr/local/lib/python3.7/dist-packages (4.19.2)\n",
            "Requirement already satisfied: pytorch-lightning in /usr/local/lib/python3.7/dist-packages (1.6.3)\n",
            "Requirement already satisfied: antlr4-python3-runtime==4.9.* in /usr/local/lib/python3.7/dist-packages (from omegaconf) (4.9.3)\n",
            "Requirement already satisfied: PyYAML>=5.1.0 in /usr/local/lib/python3.7/dist-packages (from omegaconf) (6.0)\n",
            "Requirement already satisfied: filelock in /usr/local/lib/python3.7/dist-packages (from transformers) (3.7.0)\n",
            "Requirement already satisfied: packaging>=20.0 in /usr/local/lib/python3.7/dist-packages (from transformers) (21.3)\n",
            "Requirement already satisfied: importlib-metadata in /usr/local/lib/python3.7/dist-packages (from transformers) (4.11.3)\n",
            "Requirement already satisfied: huggingface-hub<1.0,>=0.1.0 in /usr/local/lib/python3.7/dist-packages (from transformers) (0.6.0)\n",
            "Requirement already satisfied: tqdm>=4.27 in /usr/local/lib/python3.7/dist-packages (from transformers) (4.64.0)\n",
            "Requirement already satisfied: numpy>=1.17 in /usr/local/lib/python3.7/dist-packages (from transformers) (1.21.6)\n",
            "Requirement already satisfied: regex!=2019.12.17 in /usr/local/lib/python3.7/dist-packages (from transformers) (2019.12.20)\n",
            "Requirement already satisfied: requests in /usr/local/lib/python3.7/dist-packages (from transformers) (2.23.0)\n",
            "Requirement already satisfied: tokenizers!=0.11.3,<0.13,>=0.11.1 in /usr/local/lib/python3.7/dist-packages (from transformers) (0.12.1)\n",
            "Requirement already satisfied: typing-extensions>=3.7.4.3 in /usr/local/lib/python3.7/dist-packages (from huggingface-hub<1.0,>=0.1.0->transformers) (4.2.0)\n",
            "Requirement already satisfied: pyparsing!=3.0.5,>=2.0.2 in /usr/local/lib/python3.7/dist-packages (from packaging>=20.0->transformers) (3.0.9)\n",
            "Requirement already satisfied: fsspec[http]!=2021.06.0,>=2021.05.0 in /usr/local/lib/python3.7/dist-packages (from pytorch-lightning) (2022.5.0)\n",
            "Requirement already satisfied: pyDeprecate<0.4.0,>=0.3.1 in /usr/local/lib/python3.7/dist-packages (from pytorch-lightning) (0.3.2)\n",
            "Requirement already satisfied: tensorboard>=2.2.0 in /usr/local/lib/python3.7/dist-packages (from pytorch-lightning) (2.8.0)\n",
            "Requirement already satisfied: torchmetrics>=0.4.1 in /usr/local/lib/python3.7/dist-packages (from pytorch-lightning) (0.8.2)\n",
            "Requirement already satisfied: torch>=1.8.* in /usr/local/lib/python3.7/dist-packages (from pytorch-lightning) (1.11.0+cu113)\n",
            "Requirement already satisfied: aiohttp in /usr/local/lib/python3.7/dist-packages (from fsspec[http]!=2021.06.0,>=2021.05.0->pytorch-lightning) (3.8.1)\n",
            "Requirement already satisfied: markdown>=2.6.8 in /usr/local/lib/python3.7/dist-packages (from tensorboard>=2.2.0->pytorch-lightning) (3.3.7)\n",
            "Requirement already satisfied: grpcio>=1.24.3 in /usr/local/lib/python3.7/dist-packages (from tensorboard>=2.2.0->pytorch-lightning) (1.46.1)\n",
            "Requirement already satisfied: setuptools>=41.0.0 in /usr/local/lib/python3.7/dist-packages (from tensorboard>=2.2.0->pytorch-lightning) (57.4.0)\n",
            "Requirement already satisfied: google-auth<3,>=1.6.3 in /usr/local/lib/python3.7/dist-packages (from tensorboard>=2.2.0->pytorch-lightning) (1.35.0)\n",
            "Requirement already satisfied: werkzeug>=0.11.15 in /usr/local/lib/python3.7/dist-packages (from tensorboard>=2.2.0->pytorch-lightning) (1.0.1)\n",
            "Requirement already satisfied: google-auth-oauthlib<0.5,>=0.4.1 in /usr/local/lib/python3.7/dist-packages (from tensorboard>=2.2.0->pytorch-lightning) (0.4.6)\n",
            "Requirement already satisfied: tensorboard-plugin-wit>=1.6.0 in /usr/local/lib/python3.7/dist-packages (from tensorboard>=2.2.0->pytorch-lightning) (1.8.1)\n",
            "Requirement already satisfied: absl-py>=0.4 in /usr/local/lib/python3.7/dist-packages (from tensorboard>=2.2.0->pytorch-lightning) (1.0.0)\n",
            "Requirement already satisfied: tensorboard-data-server<0.7.0,>=0.6.0 in /usr/local/lib/python3.7/dist-packages (from tensorboard>=2.2.0->pytorch-lightning) (0.6.1)\n",
            "Requirement already satisfied: wheel>=0.26 in /usr/local/lib/python3.7/dist-packages (from tensorboard>=2.2.0->pytorch-lightning) (0.37.1)\n",
            "Requirement already satisfied: protobuf>=3.6.0 in /usr/local/lib/python3.7/dist-packages (from tensorboard>=2.2.0->pytorch-lightning) (3.17.3)\n",
            "Requirement already satisfied: six in /usr/local/lib/python3.7/dist-packages (from absl-py>=0.4->tensorboard>=2.2.0->pytorch-lightning) (1.15.0)\n",
            "Requirement already satisfied: pyasn1-modules>=0.2.1 in /usr/local/lib/python3.7/dist-packages (from google-auth<3,>=1.6.3->tensorboard>=2.2.0->pytorch-lightning) (0.2.8)\n",
            "Requirement already satisfied: cachetools<5.0,>=2.0.0 in /usr/local/lib/python3.7/dist-packages (from google-auth<3,>=1.6.3->tensorboard>=2.2.0->pytorch-lightning) (4.2.4)\n",
            "Requirement already satisfied: rsa<5,>=3.1.4 in /usr/local/lib/python3.7/dist-packages (from google-auth<3,>=1.6.3->tensorboard>=2.2.0->pytorch-lightning) (4.8)\n",
            "Requirement already satisfied: requests-oauthlib>=0.7.0 in /usr/local/lib/python3.7/dist-packages (from google-auth-oauthlib<0.5,>=0.4.1->tensorboard>=2.2.0->pytorch-lightning) (1.3.1)\n",
            "Requirement already satisfied: zipp>=0.5 in /usr/local/lib/python3.7/dist-packages (from importlib-metadata->transformers) (3.8.0)\n",
            "Requirement already satisfied: pyasn1<0.5.0,>=0.4.6 in /usr/local/lib/python3.7/dist-packages (from pyasn1-modules>=0.2.1->google-auth<3,>=1.6.3->tensorboard>=2.2.0->pytorch-lightning) (0.4.8)\n",
            "Requirement already satisfied: urllib3!=1.25.0,!=1.25.1,<1.26,>=1.21.1 in /usr/local/lib/python3.7/dist-packages (from requests->transformers) (1.24.3)\n",
            "Requirement already satisfied: chardet<4,>=3.0.2 in /usr/local/lib/python3.7/dist-packages (from requests->transformers) (3.0.4)\n",
            "Requirement already satisfied: idna<3,>=2.5 in /usr/local/lib/python3.7/dist-packages (from requests->transformers) (2.10)\n",
            "Requirement already satisfied: certifi>=2017.4.17 in /usr/local/lib/python3.7/dist-packages (from requests->transformers) (2022.5.18.1)\n",
            "Requirement already satisfied: oauthlib>=3.0.0 in /usr/local/lib/python3.7/dist-packages (from requests-oauthlib>=0.7.0->google-auth-oauthlib<0.5,>=0.4.1->tensorboard>=2.2.0->pytorch-lightning) (3.2.0)\n",
            "Requirement already satisfied: frozenlist>=1.1.1 in /usr/local/lib/python3.7/dist-packages (from aiohttp->fsspec[http]!=2021.06.0,>=2021.05.0->pytorch-lightning) (1.3.0)\n",
            "Requirement already satisfied: attrs>=17.3.0 in /usr/local/lib/python3.7/dist-packages (from aiohttp->fsspec[http]!=2021.06.0,>=2021.05.0->pytorch-lightning) (21.4.0)\n",
            "Requirement already satisfied: multidict<7.0,>=4.5 in /usr/local/lib/python3.7/dist-packages (from aiohttp->fsspec[http]!=2021.06.0,>=2021.05.0->pytorch-lightning) (6.0.2)\n",
            "Requirement already satisfied: charset-normalizer<3.0,>=2.0 in /usr/local/lib/python3.7/dist-packages (from aiohttp->fsspec[http]!=2021.06.0,>=2021.05.0->pytorch-lightning) (2.0.12)\n",
            "Requirement already satisfied: async-timeout<5.0,>=4.0.0a3 in /usr/local/lib/python3.7/dist-packages (from aiohttp->fsspec[http]!=2021.06.0,>=2021.05.0->pytorch-lightning) (4.0.2)\n",
            "Requirement already satisfied: asynctest==0.13.0 in /usr/local/lib/python3.7/dist-packages (from aiohttp->fsspec[http]!=2021.06.0,>=2021.05.0->pytorch-lightning) (0.13.0)\n",
            "Requirement already satisfied: yarl<2.0,>=1.0 in /usr/local/lib/python3.7/dist-packages (from aiohttp->fsspec[http]!=2021.06.0,>=2021.05.0->pytorch-lightning) (1.7.2)\n",
            "Requirement already satisfied: aiosignal>=1.1.2 in /usr/local/lib/python3.7/dist-packages (from aiohttp->fsspec[http]!=2021.06.0,>=2021.05.0->pytorch-lightning) (1.2.0)\n"
          ]
        }
      ]
    },
    {
      "cell_type": "markdown",
      "metadata": {
        "id": "5gaAQZXTxFxD"
      },
      "source": [
        "## Loading the model\n",
        "\n",
        "We load and print the config."
      ]
    },
    {
      "cell_type": "code",
      "metadata": {
        "id": "hUOUJaTj02Bq",
        "outputId": "b63a2163-7692-4c27-b5dd-b5c62a41ef32",
        "colab": {
          "base_uri": "https://localhost:8080/",
          "height": 0
        }
      },
      "source": [
        "import sys\n",
        "%cd /content/taming-transformers\n",
        "sys.path.append(\".\")\n",
        "from omegaconf import OmegaConf\n",
        "config_path = \"/content/taming-transformers/logs/2021-04-23T18-19-01_ffhq_transformer/configs/2021-04-23T18-19-01-project.yaml\"\n",
        "config = OmegaConf.load(config_path)\n",
        "import yaml\n",
        "print(yaml.dump(OmegaConf.to_container(config)))"
      ],
      "execution_count": 2,
      "outputs": [
        {
          "output_type": "stream",
          "name": "stdout",
          "text": [
            "/content/taming-transformers\n",
            "data:\n",
            "  params:\n",
            "    batch_size: 24\n",
            "    num_workers: 24\n",
            "    train:\n",
            "      params:\n",
            "        size: 256\n",
            "      target: taming.data.faceshq.FFHQTrain\n",
            "    validation:\n",
            "      params:\n",
            "        size: 256\n",
            "      target: taming.data.faceshq.FFHQValidation\n",
            "  target: cutlit.DataModuleFromConfig\n",
            "model:\n",
            "  base_learning_rate: 0.0625\n",
            "  params:\n",
            "    cond_stage_config: __is_unconditional__\n",
            "    first_stage_config:\n",
            "      params:\n",
            "        ddconfig:\n",
            "          attn_resolutions:\n",
            "          - 16\n",
            "          ch: 128\n",
            "          ch_mult:\n",
            "          - 1\n",
            "          - 1\n",
            "          - 2\n",
            "          - 2\n",
            "          - 4\n",
            "          double_z: false\n",
            "          dropout: 0.0\n",
            "          in_channels: 3\n",
            "          num_res_blocks: 2\n",
            "          out_ch: 3\n",
            "          resolution: 256\n",
            "          z_channels: 256\n",
            "        embed_dim: 256\n",
            "        lossconfig:\n",
            "          target: taming.modules.losses.vqperceptual.DummyLoss\n",
            "        n_embed: 1024\n",
            "      target: taming.models.vqgan.VQModel\n",
            "    first_stage_key: image\n",
            "    transformer_config:\n",
            "      params:\n",
            "        block_size: 256\n",
            "        n_embd: 1664\n",
            "        n_head: 16\n",
            "        n_layer: 24\n",
            "        vocab_size: 1024\n",
            "      target: taming.modules.transformer.mingpt.GPT\n",
            "  target: taming.models.cond_transformer.Net2NetTransformer\n",
            "\n"
          ]
        }
      ]
    },
    {
      "cell_type": "markdown",
      "metadata": {
        "id": "FzQqNgiLEJ9J"
      },
      "source": [
        "Instantiate the model and load the checkpoint."
      ]
    },
    {
      "cell_type": "code",
      "metadata": {
        "id": "sWvDDVoz3RB4",
        "outputId": "3965d09c-4b82-423d-f919-e4625310699a",
        "colab": {
          "base_uri": "https://localhost:8080/",
          "height": 0
        }
      },
      "source": [
        "from taming.models.cond_transformer import Net2NetTransformer\n",
        "import torch\n",
        "model = Net2NetTransformer(**config.model.params)\n",
        "ckpt_path = \"/content/taming-transformers/logs/2021-04-23T18-19-01_ffhq_transformer/checkpoints/last.ckpt\"\n",
        "sd = torch.load(ckpt_path, map_location=\"cuda\")[\"state_dict\"]\n",
        "missing, unexpected = model.load_state_dict(sd, strict=False)"
      ],
      "execution_count": 3,
      "outputs": [
        {
          "output_type": "stream",
          "name": "stdout",
          "text": [
            "Working with z of shape (1, 256, 16, 16) = 65536 dimensions.\n",
            "Using no cond stage. Assuming the training is intended to be unconditional. Prepending 0 as a sos token.\n"
          ]
        }
      ]
    },
    {
      "cell_type": "code",
      "metadata": {
        "id": "iYN9cREY-r3N",
        "outputId": "69f04637-260f-490c-f5f5-0ffca9ed9863",
        "colab": {
          "base_uri": "https://localhost:8080/",
          "height": 0
        }
      },
      "source": [
        "model.cuda().eval()\n",
        "torch.set_grad_enabled(False)"
      ],
      "execution_count": 4,
      "outputs": [
        {
          "output_type": "execute_result",
          "data": {
            "text/plain": [
              "<torch.autograd.grad_mode.set_grad_enabled at 0x7fc655466990>"
            ]
          },
          "metadata": {},
          "execution_count": 4
        }
      ]
    },
    {
      "cell_type": "markdown",
      "metadata": {
        "id": "ftDWneY3zJZ5"
      },
      "source": [
        "## Generate image samples\n",
        "Generated images will be saved in `logdir/samples/top_k_{top_k}_top_p_{top_p}/`\n",
        "as PNGs\n",
        "\n",
        "if you wish to display the generated images instead of saving them in logdir, \n",
        "set save = False\n"
      ]
    },
    {
      "cell_type": "code",
      "source": [
        "num_samples = 1000\n",
        "batch_size = 3\n",
        "top_k = 300\n",
        "top_p = 1.0\n",
        "temperature = 1.0\n",
        "\n",
        "save = True\n",
        "logdir=\"/content/drive/MyDrive/\""
      ],
      "metadata": {
        "id": "-CjPHdSRv_kv"
      },
      "execution_count": null,
      "outputs": []
    },
    {
      "cell_type": "code",
      "source": [
        "from scripts.sample_fast import sample_unconditional\n",
        "from tqdm import tqdm\n",
        "from PIL import Image\n",
        "import numpy as np\n",
        "\n",
        "def show_image(s):\n",
        "  s = s.detach().cpu().numpy().transpose(0,2,3,1)[0]\n",
        "  s = ((s+1.0)*127.5).clip(0,255).astype(np.uint8)\n",
        "  s = Image.fromarray(s)\n",
        "  display(s)\n",
        "\n",
        "@torch.no_grad()\n",
        "def run_live(model, batch_size, temperature, top_k, unconditional=True, num_samples=50000, top_p=None):\n",
        "    print(f\"Running in unconditional sampling mode, producing {num_samples} samples.\")\n",
        "    batches = [batch_size for _ in range(num_samples//batch_size)] + [num_samples % batch_size]\n",
        "    for n, bs in tqdm(enumerate(batches), desc=\"Sampling\"):\n",
        "        if bs == 0: break\n",
        "        logs = sample_unconditional(model, batch_size=bs, temperature=temperature, top_k=top_k, top_p=top_p)\n",
        "        show_image(logs[\"samples\"])"
      ],
      "metadata": {
        "id": "Jc36JX3yzDZU"
      },
      "execution_count": null,
      "outputs": []
    },
    {
      "cell_type": "code",
      "source": [
        "from scripts.sample_fast import run\n",
        "import os \n",
        "\n",
        "if save == True:\n",
        "    logdir = os.path.join(logdir, \"samples\", f\"top_k_{top_k}_top_p_{top_p}\")\n",
        "    print(f\"Logging to {logdir}\")\n",
        "    os.makedirs(logdir, exist_ok=True)\n",
        "    run(logdir, model, batch_size, temperature, top_k, unconditional=model.be_unconditional, num_samples=num_samples, top_p=top_p)\n",
        "else:\n",
        "    print(f\"Generating with top_k = {top_k}, top_p = {top_p}\")\n",
        "    run_live(model, batch_size, temperature, top_k, unconditional=model.be_unconditional, num_samples=num_samples, top_p=top_p)"
      ],
      "metadata": {
        "id": "XnF32AnQxnyA",
        "outputId": "cd860082-def5-4e56-f742-b2e9f4f5ddea",
        "colab": {
          "base_uri": "https://localhost:8080/"
        }
      },
      "execution_count": null,
      "outputs": [
        {
          "output_type": "stream",
          "name": "stdout",
          "text": [
            "Logging to /content/drive/MyDrive/samples/top_k_300_top_p_1.0\n",
            "Running in unconditional sampling mode, producing 3000 samples.\n"
          ]
        },
        {
          "output_type": "stream",
          "name": "stderr",
          "text": [
            "Sampling: 196it [41:39, 12.72s/it]"
          ]
        }
      ]
    },
    {
      "cell_type": "markdown",
      "source": [
        "## Tuning Hyperparameters\n"
      ],
      "metadata": {
        "id": "29DGEB0cxT5F"
      }
    },
    {
      "cell_type": "code",
      "source": [
        "%cd /content\n",
        "!wget --no-check-certificate --user=corso --password=p2021corso http://www.grip.unina.it/download/corso/ffhq_real.zip\n",
        "!unzip -q ffhq_real.zip\n",
        "#!rm -d 0_real\n",
        "#!rm ffhq_real.zip\n",
        "%mkdir -p /content/ffhq/real\n",
        "%mkdir -p /content/ffhq/synthesized"
      ],
      "metadata": {
        "id": "XuxH4KeWf2IL"
      },
      "execution_count": 48,
      "outputs": []
    },
    {
      "cell_type": "code",
      "source": [
        "from scripts.sample_fast import run\n",
        "from tqdm import tqdm\n",
        "from PIL import Image\n",
        "import numpy as np\n",
        "import os \n",
        "import tensorflow as tf"
      ],
      "metadata": {
        "id": "FVD5XZKhxuHV"
      },
      "execution_count": 97,
      "outputs": []
    },
    {
      "cell_type": "code",
      "source": [
        "num_samples = 3\n",
        "## \n",
        "batch_size = 3\n",
        "\n",
        "trainmodel = tf.keras.models.load_model('/content/drive/MyDrive/my_keras_model.h5')\n",
        "\n",
        "logdir=\"/content/ffhq/synthesized/\"\n",
        "top_k = tf.Variable(300, name = 'top_k', dtype = tf.float32)\n",
        "top_p = tf.Variable(1.0, name = 'top_p', dtype = tf.float32)\n",
        "temperature = tf.Variable(1.0, name = 'temperature', dtype = tf.float32)\n",
        "\n",
        "def loss():\n",
        "    %rm /content/ffhq/synthesized/*\n",
        "    %cd /content/ffhq/real/\n",
        "    !mv * /content/0_real/\n",
        "    %cd /content/0_real/\n",
        "    !mv $(ls | shuf -n 3) ../ffhq/real/\n",
        "    temp = temperature.numpy()\n",
        "    k = int(top_k.numpy())\n",
        "    p = top_p.numpy()\n",
        "    run(logdir, model, batch_size, temp, k, unconditional=model.be_unconditional, num_samples=num_samples, top_p=p)\n",
        "    dataset = tf.keras.utils.image_dataset_from_directory(\n",
        "        '/content/ffhq/',\n",
        "        labels='inferred',\n",
        "        label_mode='categorical',\n",
        "        color_mode='rgb',\n",
        "        batch_size=5,\n",
        "        image_size=(256, 256),\n",
        "        shuffle=True,\n",
        "        validation_split=0,\n",
        "        interpolation='bilinear',\n",
        "        crop_to_aspect_ratio=True,\n",
        "    )\n",
        "    loss, AUC, accuracy = trainmodel.evaluate(dataset)\n",
        "    return AUC"
      ],
      "metadata": {
        "id": "ATQqlmXwxss1",
        "outputId": "c72168e9-a921-4689-95ba-2b9db942ee05",
        "colab": {
          "base_uri": "https://localhost:8080/"
        }
      },
      "execution_count": 141,
      "outputs": [
        {
          "output_type": "stream",
          "name": "stdout",
          "text": [
            "<tf.Variable 'top_p:0' shape=() dtype=float32, numpy=1.0>\n"
          ]
        }
      ]
    },
    {
      "cell_type": "code",
      "source": [
        ""
      ],
      "metadata": {
        "id": "iMyoseIyAUCF"
      },
      "execution_count": null,
      "outputs": []
    },
    {
      "cell_type": "code",
      "source": [
        "# maximize false negatives (predicted real)\n",
        "# https://www.tutorialspoint.com/tensorflow/tensorflow_gradient_descent_optimization.htm\n",
        "\n",
        "\n",
        "optimizer = tf.keras.optimizers.SGD()\n",
        "vars = [top_k, top_p, temperature]\n",
        "with tf.GradientTape() as tape:\n",
        "    tape.watch([AUC, vars])\n",
        "    AUC = loss()\n",
        "    grad = tape.gradient(AUC, vars)\n",
        "train = optimizer.apply_gradients(zip(grad, vars))\n",
        "#train = optimizer.minimize(loss, [top_k, top_p, temperature])\n",
        "\n",
        "# def optimize():\n",
        "#    with tf.Session() as session:\n",
        "#       session.run(init)\n",
        "#       print(\"starting at\", \"- top_k:\", session.run(top_k), \"- top_p:\", session.run(top_p), \"- temperature:\", session.run(top_k), \"- false_negatives:\", session.run(to_maximize))\n",
        "#       \n",
        "#       for step in range(10):\n",
        "#          session.run(train)\n",
        "#          print(\"step\", step, \"- top_k:\", session.run(top_k), \"- top_p:\", session.run(top_p), \"- temperature:\", session.run(top_k), \"- false_negatives:\", session.run(to_maximize))"
      ],
      "metadata": {
        "id": "B6uBOitQ1C4d",
        "outputId": "3f077f54-6e27-4f88-ba78-910813b059b4",
        "colab": {
          "base_uri": "https://localhost:8080/",
          "height": 536
        }
      },
      "execution_count": 147,
      "outputs": [
        {
          "output_type": "stream",
          "name": "stdout",
          "text": [
            "/content/ffhq/real\n",
            "/content/0_real\n",
            "Running in unconditional sampling mode, producing 3 samples.\n"
          ]
        },
        {
          "output_type": "stream",
          "name": "stderr",
          "text": [
            "Sampling: 1it [00:07,  7.81s/it]\n"
          ]
        },
        {
          "output_type": "stream",
          "name": "stdout",
          "text": [
            "Found 6 files belonging to 2 classes.\n",
            "<tf.Variable 'top_p:0' shape=() dtype=float32, numpy=1.0>\n",
            "2/2 [==============================] - 0s 20ms/step - loss: 0.2673 - auc: 0.8889 - accuracy: 0.6667\n",
            "[<tf.Variable 'top_k:0' shape=() dtype=float32, numpy=300.0>, <tf.Variable 'top_p:0' shape=() dtype=float32, numpy=1.0>, <tf.Variable 'temperature:0' shape=() dtype=float32, numpy=1.0>]\n"
          ]
        },
        {
          "output_type": "error",
          "ename": "ValueError",
          "evalue": "ignored",
          "traceback": [
            "\u001b[0;31m---------------------------------------------------------------------------\u001b[0m",
            "\u001b[0;31mValueError\u001b[0m                                Traceback (most recent call last)",
            "\u001b[0;32m<ipython-input-147-116c20a58bd7>\u001b[0m in \u001b[0;36m<module>\u001b[0;34m()\u001b[0m\n\u001b[1;32m     11\u001b[0m     \u001b[0mprint\u001b[0m\u001b[0;34m(\u001b[0m\u001b[0mvars\u001b[0m\u001b[0;34m)\u001b[0m\u001b[0;34m\u001b[0m\u001b[0;34m\u001b[0m\u001b[0m\n\u001b[1;32m     12\u001b[0m     \u001b[0mgrad\u001b[0m \u001b[0;34m=\u001b[0m \u001b[0mtape\u001b[0m\u001b[0;34m.\u001b[0m\u001b[0mgradient\u001b[0m\u001b[0;34m(\u001b[0m\u001b[0mAUC\u001b[0m\u001b[0;34m,\u001b[0m \u001b[0mvars\u001b[0m\u001b[0;34m)\u001b[0m\u001b[0;34m\u001b[0m\u001b[0;34m\u001b[0m\u001b[0m\n\u001b[0;32m---> 13\u001b[0;31m \u001b[0mtrain\u001b[0m \u001b[0;34m=\u001b[0m \u001b[0moptimizer\u001b[0m\u001b[0;34m.\u001b[0m\u001b[0mapply_gradients\u001b[0m\u001b[0;34m(\u001b[0m\u001b[0mzip\u001b[0m\u001b[0;34m(\u001b[0m\u001b[0mgrad\u001b[0m\u001b[0;34m,\u001b[0m \u001b[0mvars\u001b[0m\u001b[0;34m)\u001b[0m\u001b[0;34m)\u001b[0m\u001b[0;34m\u001b[0m\u001b[0;34m\u001b[0m\u001b[0m\n\u001b[0m\u001b[1;32m     14\u001b[0m \u001b[0;31m#train = optimizer.minimize(loss, [top_k, top_p, temperature])\u001b[0m\u001b[0;34m\u001b[0m\u001b[0;34m\u001b[0m\u001b[0;34m\u001b[0m\u001b[0m\n\u001b[1;32m     15\u001b[0m \u001b[0;34m\u001b[0m\u001b[0m\n",
            "\u001b[0;32m/usr/local/lib/python3.7/dist-packages/keras/optimizer_v2/optimizer_v2.py\u001b[0m in \u001b[0;36mapply_gradients\u001b[0;34m(self, grads_and_vars, name, experimental_aggregate_gradients)\u001b[0m\n\u001b[1;32m    631\u001b[0m       \u001b[0mRuntimeError\u001b[0m\u001b[0;34m:\u001b[0m \u001b[0mIf\u001b[0m \u001b[0mcalled\u001b[0m \u001b[0;32min\u001b[0m \u001b[0ma\u001b[0m \u001b[0mcross\u001b[0m\u001b[0;34m-\u001b[0m\u001b[0mreplica\u001b[0m \u001b[0mcontext\u001b[0m\u001b[0;34m.\u001b[0m\u001b[0;34m\u001b[0m\u001b[0;34m\u001b[0m\u001b[0m\n\u001b[1;32m    632\u001b[0m     \"\"\"\n\u001b[0;32m--> 633\u001b[0;31m     \u001b[0mgrads_and_vars\u001b[0m \u001b[0;34m=\u001b[0m \u001b[0moptimizer_utils\u001b[0m\u001b[0;34m.\u001b[0m\u001b[0mfilter_empty_gradients\u001b[0m\u001b[0;34m(\u001b[0m\u001b[0mgrads_and_vars\u001b[0m\u001b[0;34m)\u001b[0m\u001b[0;34m\u001b[0m\u001b[0;34m\u001b[0m\u001b[0m\n\u001b[0m\u001b[1;32m    634\u001b[0m     \u001b[0mvar_list\u001b[0m \u001b[0;34m=\u001b[0m \u001b[0;34m[\u001b[0m\u001b[0mv\u001b[0m \u001b[0;32mfor\u001b[0m \u001b[0;34m(\u001b[0m\u001b[0m_\u001b[0m\u001b[0;34m,\u001b[0m \u001b[0mv\u001b[0m\u001b[0;34m)\u001b[0m \u001b[0;32min\u001b[0m \u001b[0mgrads_and_vars\u001b[0m\u001b[0;34m]\u001b[0m\u001b[0;34m\u001b[0m\u001b[0;34m\u001b[0m\u001b[0m\n\u001b[1;32m    635\u001b[0m \u001b[0;34m\u001b[0m\u001b[0m\n",
            "\u001b[0;32m/usr/local/lib/python3.7/dist-packages/keras/optimizer_v2/utils.py\u001b[0m in \u001b[0;36mfilter_empty_gradients\u001b[0;34m(grads_and_vars)\u001b[0m\n\u001b[1;32m     71\u001b[0m   \u001b[0;32mif\u001b[0m \u001b[0;32mnot\u001b[0m \u001b[0mfiltered\u001b[0m\u001b[0;34m:\u001b[0m\u001b[0;34m\u001b[0m\u001b[0;34m\u001b[0m\u001b[0m\n\u001b[1;32m     72\u001b[0m     \u001b[0mvariable\u001b[0m \u001b[0;34m=\u001b[0m \u001b[0;34m(\u001b[0m\u001b[0;34m[\u001b[0m\u001b[0mv\u001b[0m\u001b[0;34m.\u001b[0m\u001b[0mname\u001b[0m \u001b[0;32mfor\u001b[0m \u001b[0m_\u001b[0m\u001b[0;34m,\u001b[0m \u001b[0mv\u001b[0m \u001b[0;32min\u001b[0m \u001b[0mgrads_and_vars\u001b[0m\u001b[0;34m]\u001b[0m\u001b[0;34m,\u001b[0m\u001b[0;34m)\u001b[0m\u001b[0;34m\u001b[0m\u001b[0;34m\u001b[0m\u001b[0m\n\u001b[0;32m---> 73\u001b[0;31m     raise ValueError(f\"No gradients provided for any variable: {variable}. \"\n\u001b[0m\u001b[1;32m     74\u001b[0m                      f\"Provided `grads_and_vars` is {grads_and_vars}.\")\n\u001b[1;32m     75\u001b[0m   \u001b[0;32mif\u001b[0m \u001b[0mvars_with_empty_grads\u001b[0m\u001b[0;34m:\u001b[0m\u001b[0;34m\u001b[0m\u001b[0;34m\u001b[0m\u001b[0m\n",
            "\u001b[0;31mValueError\u001b[0m: No gradients provided for any variable: (['top_k:0', 'top_p:0', 'temperature:0'],). Provided `grads_and_vars` is ((None, <tf.Variable 'top_k:0' shape=() dtype=float32, numpy=300.0>), (None, <tf.Variable 'top_p:0' shape=() dtype=float32, numpy=1.0>), (None, <tf.Variable 'temperature:0' shape=() dtype=float32, numpy=1.0>))."
          ]
        }
      ]
    },
    {
      "cell_type": "code",
      "source": [
        "optimize()"
      ],
      "metadata": {
        "id": "3Xxme4lI4NG-"
      },
      "execution_count": null,
      "outputs": []
    }
  ]
}