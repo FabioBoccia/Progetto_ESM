{
  "nbformat": 4,
  "nbformat_minor": 0,
  "metadata": {
    "colab": {
      "name": "generate_dataset.ipynb",
      "provenance": [],
      "collapsed_sections": [
        "4hdc6YonrvoC",
        "5gaAQZXTxFxD"
      ],
      "mount_file_id": "https://github.com/FabioBoccia/Progetto_ESM/blob/dev/generate_dataset.ipynb",
      "authorship_tag": "ABX9TyOYO77avnqOLhhBDyLQUTZF",
      "include_colab_link": true
    },
    "kernelspec": {
      "name": "python3",
      "display_name": "Python 3"
    },
    "language_info": {
      "name": "python"
    },
    "accelerator": "GPU"
  },
  "cells": [
    {
      "cell_type": "markdown",
      "metadata": {
        "id": "view-in-github",
        "colab_type": "text"
      },
      "source": [
        "<a href=\"https://colab.research.google.com/github/FabioBoccia/Progetto_ESM/blob/dev/generate_dataset.ipynb\" target=\"_parent\"><img src=\"https://colab.research.google.com/assets/colab-badge.svg\" alt=\"Open In Colab\"/></a>"
      ]
    },
    {
      "cell_type": "markdown",
      "metadata": {
        "id": "2U0NA9HrrZey"
      },
      "source": [
        "# Taming Transformers\n",
        "\n",
        "This notebook is a minimal working example to generate faces images as in [Taming Transformers for High-Resolution Image Synthesis](https://github.com/CompVis/taming-transformers)."
      ]
    },
    {
      "cell_type": "markdown",
      "metadata": {
        "id": "4hdc6YonrvoC"
      },
      "source": [
        "## Setup\n",
        "The setup code in this section was written to be [run in a Colab environment](https://colab.research.google.com/github/CompVis/taming-transformers/blob/master/scripts/taming-transformers.ipynb).\n",
        "It should be run only once per runtime.\n",
        "We first clone the repository and upload the model checkpoint and config from Google Drive"
      ]
    },
    {
      "cell_type": "code",
      "metadata": {
        "id": "Wwj8j_l201aF",
        "outputId": "919f0f72-f1f2-41c5-e47c-f244e95fedba",
        "colab": {
          "base_uri": "https://localhost:8080/"
        }
      },
      "source": [
        "%cd /content\n",
        "%rm -r sample_data\n",
        "!git clone https://github.com/CompVis/taming-transformers\n",
        "%cd taming-transformers\n",
        "!mkdir -p logs\n",
        "\n",
        "from google.colab import drive\n",
        "drive.mount('/content/drive')\n",
        "!cp -r /content/drive/MyDrive/2021-04-23T18-19-01_ffhq_transformer logs/"
      ],
      "execution_count": 5,
      "outputs": [
        {
          "output_type": "stream",
          "name": "stdout",
          "text": [
            "/content\n",
            "rm: cannot remove 'sample_data': No such file or directory\n",
            "fatal: destination path 'taming-transformers' already exists and is not an empty directory.\n",
            "/content/taming-transformers\n",
            "Mounted at /content/drive\n"
          ]
        }
      ]
    },
    {
      "cell_type": "markdown",
      "metadata": {
        "id": "eeBqWgMQDjZb"
      },
      "source": [
        "Next, we install required dependencies."
      ]
    },
    {
      "cell_type": "code",
      "metadata": {
        "id": "hzQNmIuT_0uF",
        "outputId": "4e08d7e6-781a-4faa-f79e-24e1a1e6d529",
        "colab": {
          "base_uri": "https://localhost:8080/"
        }
      },
      "source": [
        "!pip install --upgrade omegaconf einops transformers pytorch-lightning"
      ],
      "execution_count": 6,
      "outputs": [
        {
          "output_type": "stream",
          "name": "stdout",
          "text": [
            "Requirement already satisfied: omegaconf in /usr/local/lib/python3.7/dist-packages (2.2.1)\n",
            "Requirement already satisfied: einops in /usr/local/lib/python3.7/dist-packages (0.4.1)\n",
            "Requirement already satisfied: transformers in /usr/local/lib/python3.7/dist-packages (4.19.2)\n",
            "Requirement already satisfied: pytorch-lightning in /usr/local/lib/python3.7/dist-packages (1.6.3)\n",
            "Requirement already satisfied: antlr4-python3-runtime==4.9.* in /usr/local/lib/python3.7/dist-packages (from omegaconf) (4.9.3)\n",
            "Requirement already satisfied: PyYAML>=5.1.0 in /usr/local/lib/python3.7/dist-packages (from omegaconf) (6.0)\n",
            "Requirement already satisfied: huggingface-hub<1.0,>=0.1.0 in /usr/local/lib/python3.7/dist-packages (from transformers) (0.6.0)\n",
            "Requirement already satisfied: importlib-metadata in /usr/local/lib/python3.7/dist-packages (from transformers) (4.11.3)\n",
            "Requirement already satisfied: tqdm>=4.27 in /usr/local/lib/python3.7/dist-packages (from transformers) (4.64.0)\n",
            "Requirement already satisfied: filelock in /usr/local/lib/python3.7/dist-packages (from transformers) (3.7.0)\n",
            "Requirement already satisfied: packaging>=20.0 in /usr/local/lib/python3.7/dist-packages (from transformers) (21.3)\n",
            "Requirement already satisfied: tokenizers!=0.11.3,<0.13,>=0.11.1 in /usr/local/lib/python3.7/dist-packages (from transformers) (0.12.1)\n",
            "Requirement already satisfied: numpy>=1.17 in /usr/local/lib/python3.7/dist-packages (from transformers) (1.21.6)\n",
            "Requirement already satisfied: regex!=2019.12.17 in /usr/local/lib/python3.7/dist-packages (from transformers) (2019.12.20)\n",
            "Requirement already satisfied: requests in /usr/local/lib/python3.7/dist-packages (from transformers) (2.23.0)\n",
            "Requirement already satisfied: typing-extensions>=3.7.4.3 in /usr/local/lib/python3.7/dist-packages (from huggingface-hub<1.0,>=0.1.0->transformers) (4.2.0)\n",
            "Requirement already satisfied: pyparsing!=3.0.5,>=2.0.2 in /usr/local/lib/python3.7/dist-packages (from packaging>=20.0->transformers) (3.0.9)\n",
            "Requirement already satisfied: torchmetrics>=0.4.1 in /usr/local/lib/python3.7/dist-packages (from pytorch-lightning) (0.8.2)\n",
            "Requirement already satisfied: fsspec[http]!=2021.06.0,>=2021.05.0 in /usr/local/lib/python3.7/dist-packages (from pytorch-lightning) (2022.3.0)\n",
            "Requirement already satisfied: torch>=1.8.* in /usr/local/lib/python3.7/dist-packages (from pytorch-lightning) (1.11.0+cu113)\n",
            "Requirement already satisfied: tensorboard>=2.2.0 in /usr/local/lib/python3.7/dist-packages (from pytorch-lightning) (2.8.0)\n",
            "Requirement already satisfied: pyDeprecate<0.4.0,>=0.3.1 in /usr/local/lib/python3.7/dist-packages (from pytorch-lightning) (0.3.2)\n",
            "Requirement already satisfied: aiohttp in /usr/local/lib/python3.7/dist-packages (from fsspec[http]!=2021.06.0,>=2021.05.0->pytorch-lightning) (3.8.1)\n",
            "Requirement already satisfied: absl-py>=0.4 in /usr/local/lib/python3.7/dist-packages (from tensorboard>=2.2.0->pytorch-lightning) (1.0.0)\n",
            "Requirement already satisfied: wheel>=0.26 in /usr/local/lib/python3.7/dist-packages (from tensorboard>=2.2.0->pytorch-lightning) (0.37.1)\n",
            "Requirement already satisfied: google-auth<3,>=1.6.3 in /usr/local/lib/python3.7/dist-packages (from tensorboard>=2.2.0->pytorch-lightning) (1.35.0)\n",
            "Requirement already satisfied: setuptools>=41.0.0 in /usr/local/lib/python3.7/dist-packages (from tensorboard>=2.2.0->pytorch-lightning) (57.4.0)\n",
            "Requirement already satisfied: markdown>=2.6.8 in /usr/local/lib/python3.7/dist-packages (from tensorboard>=2.2.0->pytorch-lightning) (3.3.7)\n",
            "Requirement already satisfied: grpcio>=1.24.3 in /usr/local/lib/python3.7/dist-packages (from tensorboard>=2.2.0->pytorch-lightning) (1.46.1)\n",
            "Requirement already satisfied: tensorboard-plugin-wit>=1.6.0 in /usr/local/lib/python3.7/dist-packages (from tensorboard>=2.2.0->pytorch-lightning) (1.8.1)\n",
            "Requirement already satisfied: tensorboard-data-server<0.7.0,>=0.6.0 in /usr/local/lib/python3.7/dist-packages (from tensorboard>=2.2.0->pytorch-lightning) (0.6.1)\n",
            "Requirement already satisfied: google-auth-oauthlib<0.5,>=0.4.1 in /usr/local/lib/python3.7/dist-packages (from tensorboard>=2.2.0->pytorch-lightning) (0.4.6)\n",
            "Requirement already satisfied: werkzeug>=0.11.15 in /usr/local/lib/python3.7/dist-packages (from tensorboard>=2.2.0->pytorch-lightning) (1.0.1)\n",
            "Requirement already satisfied: protobuf>=3.6.0 in /usr/local/lib/python3.7/dist-packages (from tensorboard>=2.2.0->pytorch-lightning) (3.17.3)\n",
            "Requirement already satisfied: six in /usr/local/lib/python3.7/dist-packages (from absl-py>=0.4->tensorboard>=2.2.0->pytorch-lightning) (1.15.0)\n",
            "Requirement already satisfied: cachetools<5.0,>=2.0.0 in /usr/local/lib/python3.7/dist-packages (from google-auth<3,>=1.6.3->tensorboard>=2.2.0->pytorch-lightning) (4.2.4)\n",
            "Requirement already satisfied: rsa<5,>=3.1.4 in /usr/local/lib/python3.7/dist-packages (from google-auth<3,>=1.6.3->tensorboard>=2.2.0->pytorch-lightning) (4.8)\n",
            "Requirement already satisfied: pyasn1-modules>=0.2.1 in /usr/local/lib/python3.7/dist-packages (from google-auth<3,>=1.6.3->tensorboard>=2.2.0->pytorch-lightning) (0.2.8)\n",
            "Requirement already satisfied: requests-oauthlib>=0.7.0 in /usr/local/lib/python3.7/dist-packages (from google-auth-oauthlib<0.5,>=0.4.1->tensorboard>=2.2.0->pytorch-lightning) (1.3.1)\n",
            "Requirement already satisfied: zipp>=0.5 in /usr/local/lib/python3.7/dist-packages (from importlib-metadata->transformers) (3.8.0)\n",
            "Requirement already satisfied: pyasn1<0.5.0,>=0.4.6 in /usr/local/lib/python3.7/dist-packages (from pyasn1-modules>=0.2.1->google-auth<3,>=1.6.3->tensorboard>=2.2.0->pytorch-lightning) (0.4.8)\n",
            "Requirement already satisfied: idna<3,>=2.5 in /usr/local/lib/python3.7/dist-packages (from requests->transformers) (2.10)\n",
            "Requirement already satisfied: certifi>=2017.4.17 in /usr/local/lib/python3.7/dist-packages (from requests->transformers) (2021.10.8)\n",
            "Requirement already satisfied: chardet<4,>=3.0.2 in /usr/local/lib/python3.7/dist-packages (from requests->transformers) (3.0.4)\n",
            "Requirement already satisfied: urllib3!=1.25.0,!=1.25.1,<1.26,>=1.21.1 in /usr/local/lib/python3.7/dist-packages (from requests->transformers) (1.24.3)\n",
            "Requirement already satisfied: oauthlib>=3.0.0 in /usr/local/lib/python3.7/dist-packages (from requests-oauthlib>=0.7.0->google-auth-oauthlib<0.5,>=0.4.1->tensorboard>=2.2.0->pytorch-lightning) (3.2.0)\n",
            "Requirement already satisfied: asynctest==0.13.0 in /usr/local/lib/python3.7/dist-packages (from aiohttp->fsspec[http]!=2021.06.0,>=2021.05.0->pytorch-lightning) (0.13.0)\n",
            "Requirement already satisfied: attrs>=17.3.0 in /usr/local/lib/python3.7/dist-packages (from aiohttp->fsspec[http]!=2021.06.0,>=2021.05.0->pytorch-lightning) (21.4.0)\n",
            "Requirement already satisfied: charset-normalizer<3.0,>=2.0 in /usr/local/lib/python3.7/dist-packages (from aiohttp->fsspec[http]!=2021.06.0,>=2021.05.0->pytorch-lightning) (2.0.12)\n",
            "Requirement already satisfied: frozenlist>=1.1.1 in /usr/local/lib/python3.7/dist-packages (from aiohttp->fsspec[http]!=2021.06.0,>=2021.05.0->pytorch-lightning) (1.3.0)\n",
            "Requirement already satisfied: aiosignal>=1.1.2 in /usr/local/lib/python3.7/dist-packages (from aiohttp->fsspec[http]!=2021.06.0,>=2021.05.0->pytorch-lightning) (1.2.0)\n",
            "Requirement already satisfied: multidict<7.0,>=4.5 in /usr/local/lib/python3.7/dist-packages (from aiohttp->fsspec[http]!=2021.06.0,>=2021.05.0->pytorch-lightning) (6.0.2)\n",
            "Requirement already satisfied: async-timeout<5.0,>=4.0.0a3 in /usr/local/lib/python3.7/dist-packages (from aiohttp->fsspec[http]!=2021.06.0,>=2021.05.0->pytorch-lightning) (4.0.2)\n",
            "Requirement already satisfied: yarl<2.0,>=1.0 in /usr/local/lib/python3.7/dist-packages (from aiohttp->fsspec[http]!=2021.06.0,>=2021.05.0->pytorch-lightning) (1.7.2)\n"
          ]
        }
      ]
    },
    {
      "cell_type": "markdown",
      "metadata": {
        "id": "5gaAQZXTxFxD"
      },
      "source": [
        "## Loading the model\n",
        "\n",
        "We load and print the config."
      ]
    },
    {
      "cell_type": "code",
      "metadata": {
        "id": "hUOUJaTj02Bq",
        "outputId": "631e1a0b-8140-46d3-ee3e-053d1f9c5583",
        "colab": {
          "base_uri": "https://localhost:8080/"
        }
      },
      "source": [
        "import sys\n",
        "%cd /content/taming-transformers\n",
        "sys.path.append(\".\")\n",
        "from omegaconf import OmegaConf\n",
        "config_path = \"/content/taming-transformers/logs/2021-04-23T18-19-01_ffhq_transformer/configs/2021-04-23T18-19-01-project.yaml\"\n",
        "config = OmegaConf.load(config_path)\n",
        "import yaml\n",
        "print(yaml.dump(OmegaConf.to_container(config)))"
      ],
      "execution_count": 1,
      "outputs": [
        {
          "output_type": "stream",
          "name": "stdout",
          "text": [
            "/content/taming-transformers\n",
            "data:\n",
            "  params:\n",
            "    batch_size: 24\n",
            "    num_workers: 24\n",
            "    train:\n",
            "      params:\n",
            "        size: 256\n",
            "      target: taming.data.faceshq.FFHQTrain\n",
            "    validation:\n",
            "      params:\n",
            "        size: 256\n",
            "      target: taming.data.faceshq.FFHQValidation\n",
            "  target: cutlit.DataModuleFromConfig\n",
            "model:\n",
            "  base_learning_rate: 0.0625\n",
            "  params:\n",
            "    cond_stage_config: __is_unconditional__\n",
            "    first_stage_config:\n",
            "      params:\n",
            "        ddconfig:\n",
            "          attn_resolutions:\n",
            "          - 16\n",
            "          ch: 128\n",
            "          ch_mult:\n",
            "          - 1\n",
            "          - 1\n",
            "          - 2\n",
            "          - 2\n",
            "          - 4\n",
            "          double_z: false\n",
            "          dropout: 0.0\n",
            "          in_channels: 3\n",
            "          num_res_blocks: 2\n",
            "          out_ch: 3\n",
            "          resolution: 256\n",
            "          z_channels: 256\n",
            "        embed_dim: 256\n",
            "        lossconfig:\n",
            "          target: taming.modules.losses.vqperceptual.DummyLoss\n",
            "        n_embed: 1024\n",
            "      target: taming.models.vqgan.VQModel\n",
            "    first_stage_key: image\n",
            "    transformer_config:\n",
            "      params:\n",
            "        block_size: 256\n",
            "        n_embd: 1664\n",
            "        n_head: 16\n",
            "        n_layer: 24\n",
            "        vocab_size: 1024\n",
            "      target: taming.modules.transformer.mingpt.GPT\n",
            "  target: taming.models.cond_transformer.Net2NetTransformer\n",
            "\n"
          ]
        }
      ]
    },
    {
      "cell_type": "markdown",
      "metadata": {
        "id": "FzQqNgiLEJ9J"
      },
      "source": [
        "Instantiate the model and load the checkpoint."
      ]
    },
    {
      "cell_type": "code",
      "metadata": {
        "id": "sWvDDVoz3RB4",
        "outputId": "6dcee61a-ead4-41fe-c439-2a0fa57e45e8",
        "colab": {
          "base_uri": "https://localhost:8080/"
        }
      },
      "source": [
        "from taming.models.cond_transformer import Net2NetTransformer\n",
        "import torch\n",
        "model = Net2NetTransformer(**config.model.params)\n",
        "ckpt_path = \"/content/taming-transformers/logs/2021-04-23T18-19-01_ffhq_transformer/checkpoints/last.ckpt\"\n",
        "sd = torch.load(ckpt_path, map_location=\"cuda\")[\"state_dict\"]\n",
        "missing, unexpected = model.load_state_dict(sd, strict=False)"
      ],
      "execution_count": 2,
      "outputs": [
        {
          "output_type": "stream",
          "name": "stdout",
          "text": [
            "Working with z of shape (1, 256, 16, 16) = 65536 dimensions.\n",
            "Using no cond stage. Assuming the training is intended to be unconditional. Prepending 0 as a sos token.\n"
          ]
        }
      ]
    },
    {
      "cell_type": "code",
      "metadata": {
        "id": "iYN9cREY-r3N",
        "outputId": "b9345d33-43ee-4c1e-f7fc-575cc244f158",
        "colab": {
          "base_uri": "https://localhost:8080/"
        }
      },
      "source": [
        "model.cuda().eval()\n",
        "torch.set_grad_enabled(False)"
      ],
      "execution_count": 3,
      "outputs": [
        {
          "output_type": "execute_result",
          "data": {
            "text/plain": [
              "<torch.autograd.grad_mode.set_grad_enabled at 0x7fc9d975d4d0>"
            ]
          },
          "metadata": {},
          "execution_count": 3
        }
      ]
    },
    {
      "cell_type": "markdown",
      "metadata": {
        "id": "ftDWneY3zJZ5"
      },
      "source": [
        "## Generate image samples\n",
        "Generated images will be saved in `logdir/samples/top_k_{top_k}_top_p_{top_p}/`\n",
        "as PNGs\n",
        "\n",
        "if you wish to display the generated images instead of saving them in logdir, \n",
        "set save = False\n",
        "```\n",
        "# Default values:\n",
        "num_samples = 1000\n",
        "batch_size = 3\n",
        "top_k = 300\n",
        "top_p = 1.0\n",
        "temperature = 1.0\n",
        "\n",
        "save = True\n",
        "logdir=\"/content/drive/MyDrive/\"\n",
        "```\n",
        "\n"
      ]
    },
    {
      "cell_type": "code",
      "source": [
        "num_samples = 1000\n",
        "batch_size = 3\n",
        "top_k = 300\n",
        "top_p = 1.0\n",
        "temperature = 1.0\n",
        "\n",
        "save = True\n",
        "logdir=\"/content/drive/MyDrive/\""
      ],
      "metadata": {
        "id": "-CjPHdSRv_kv"
      },
      "execution_count": 4,
      "outputs": []
    },
    {
      "cell_type": "code",
      "source": [
        "from scripts.sample_fast import sample_unconditional\n",
        "from tqdm import tqdm\n",
        "from PIL import Image\n",
        "import numpy as np\n",
        "\n",
        "def show_image(s):\n",
        "  s = s.detach().cpu().numpy().transpose(0,2,3,1)[0]\n",
        "  s = ((s+1.0)*127.5).clip(0,255).astype(np.uint8)\n",
        "  s = Image.fromarray(s)\n",
        "  display(s)\n",
        "\n",
        "@torch.no_grad()\n",
        "def run_live(model, batch_size, temperature, top_k, unconditional=True, num_samples=50000, top_p=None):\n",
        "    print(f\"Running in unconditional sampling mode, producing {num_samples} samples.\")\n",
        "    batches = [batch_size for _ in range(num_samples//batch_size)] + [num_samples % batch_size]\n",
        "    for n, bs in tqdm(enumerate(batches), desc=\"Sampling\"):\n",
        "        if bs == 0: break\n",
        "        logs = sample_unconditional(model, batch_size=bs, temperature=temperature, top_k=top_k, top_p=top_p)\n",
        "        show_image(logs[\"samples\"])"
      ],
      "metadata": {
        "id": "Jc36JX3yzDZU"
      },
      "execution_count": 5,
      "outputs": []
    },
    {
      "cell_type": "code",
      "source": [
        "from scripts.sample_fast import run\n",
        "import os \n",
        "\n",
        "if save == True:\n",
        "    logdir = os.path.join(logdir, \"samples\", f\"top_k_{top_k}_top_p_{top_p}\")\n",
        "    print(f\"Logging to {logdir}\")\n",
        "    os.makedirs(logdir, exist_ok=True)\n",
        "    run(logdir, model, batch_size, temperature, top_k, unconditional=model.be_unconditional, num_samples=num_samples, top_p=top_p)\n",
        "else:\n",
        "    print(f\"Generating with top_k = {top_k}, top_p = {top_p}\")\n",
        "    run_live(model, batch_size, temperature, top_k, unconditional=model.be_unconditional, num_samples=num_samples, top_p=top_p)"
      ],
      "metadata": {
        "id": "XnF32AnQxnyA",
        "outputId": "cd860082-def5-4e56-f742-b2e9f4f5ddea",
        "colab": {
          "base_uri": "https://localhost:8080/"
        }
      },
      "execution_count": null,
      "outputs": [
        {
          "output_type": "stream",
          "name": "stdout",
          "text": [
            "Logging to /content/drive/MyDrive/samples/top_k_300_top_p_1.0\n",
            "Running in unconditional sampling mode, producing 3000 samples.\n"
          ]
        },
        {
          "output_type": "stream",
          "name": "stderr",
          "text": [
            "Sampling: 196it [41:39, 12.72s/it]"
          ]
        }
      ]
    }
  ]
}