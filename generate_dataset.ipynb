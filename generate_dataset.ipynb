{
  "nbformat": 4,
  "nbformat_minor": 0,
  "metadata": {
    "colab": {
      "name": "Copy of generate_dataset.ipynb",
      "provenance": [],
      "collapsed_sections": [
        "4hdc6YonrvoC",
        "5gaAQZXTxFxD",
        "29DGEB0cxT5F",
        "ftDWneY3zJZ5"
      ],
      "include_colab_link": true
    },
    "kernelspec": {
      "name": "python3",
      "display_name": "Python 3"
    },
    "language_info": {
      "name": "python"
    },
    "accelerator": "GPU"
  },
  "cells": [
    {
      "cell_type": "markdown",
      "metadata": {
        "id": "view-in-github",
        "colab_type": "text"
      },
      "source": [
        "<a href=\"https://colab.research.google.com/github/FabioBoccia/Progetto_ESM/blob/generation-hyperparameters-tuning/generate_dataset.ipynb\" target=\"_parent\"><img src=\"https://colab.research.google.com/assets/colab-badge.svg\" alt=\"Open In Colab\"/></a>"
      ]
    },
    {
      "cell_type": "markdown",
      "metadata": {
        "id": "2U0NA9HrrZey"
      },
      "source": [
        "# Taming Transformers\n",
        "\n",
        "This notebook is a minimal working example to generate faces images as in [Taming Transformers for High-Resolution Image Synthesis](https://github.com/CompVis/taming-transformers)."
      ]
    },
    {
      "cell_type": "markdown",
      "metadata": {
        "id": "4hdc6YonrvoC"
      },
      "source": [
        "## Setup\n",
        "The setup code in this section was written to be [run in a Colab environment](https://colab.research.google.com/github/CompVis/taming-transformers/blob/master/scripts/taming-transformers.ipynb).\n",
        "It should be run only once per runtime.\n",
        "We first clone the repository and upload the model checkpoint and config from Google Drive"
      ]
    },
    {
      "cell_type": "code",
      "metadata": {
        "id": "Wwj8j_l201aF",
        "outputId": "60ddfcf4-c36d-49de-aadf-9f27067af26f",
        "colab": {
          "base_uri": "https://localhost:8080/",
          "height": 484
        }
      },
      "source": [
        "%cd /content\n",
        "%rm -r sample_data\n",
        "!git clone https://github.com/CompVis/taming-transformers\n",
        "%cd taming-transformers\n",
        "!mkdir -p logs\n",
        "\n",
        "from google.colab import drive\n",
        "drive.mount('/content/drive')\n",
        "!cp -r /content/drive/MyDrive/2021-04-23T18-19-01_ffhq_transformer logs/"
      ],
      "execution_count": null,
      "outputs": [
        {
          "output_type": "stream",
          "name": "stdout",
          "text": [
            "/content\n",
            "Cloning into 'taming-transformers'...\n",
            "remote: Enumerating objects: 1335, done.\u001b[K\n",
            "remote: Total 1335 (delta 0), reused 0 (delta 0), pack-reused 1335\u001b[K\n",
            "Receiving objects: 100% (1335/1335), 409.77 MiB | 49.44 MiB/s, done.\n",
            "Resolving deltas: 100% (277/277), done.\n",
            "/content/taming-transformers\n"
          ]
        },
        {
          "output_type": "error",
          "ename": "MessageError",
          "evalue": "ignored",
          "traceback": [
            "\u001b[0;31m---------------------------------------------------------------------------\u001b[0m",
            "\u001b[0;31mMessageError\u001b[0m                              Traceback (most recent call last)",
            "\u001b[0;32m<ipython-input-1-ae6945499728>\u001b[0m in \u001b[0;36m<module>\u001b[0;34m()\u001b[0m\n\u001b[1;32m      6\u001b[0m \u001b[0;34m\u001b[0m\u001b[0m\n\u001b[1;32m      7\u001b[0m \u001b[0;32mfrom\u001b[0m \u001b[0mgoogle\u001b[0m\u001b[0;34m.\u001b[0m\u001b[0mcolab\u001b[0m \u001b[0;32mimport\u001b[0m \u001b[0mdrive\u001b[0m\u001b[0;34m\u001b[0m\u001b[0;34m\u001b[0m\u001b[0m\n\u001b[0;32m----> 8\u001b[0;31m \u001b[0mdrive\u001b[0m\u001b[0;34m.\u001b[0m\u001b[0mmount\u001b[0m\u001b[0;34m(\u001b[0m\u001b[0;34m'/content/drive'\u001b[0m\u001b[0;34m)\u001b[0m\u001b[0;34m\u001b[0m\u001b[0;34m\u001b[0m\u001b[0m\n\u001b[0m\u001b[1;32m      9\u001b[0m \u001b[0mget_ipython\u001b[0m\u001b[0;34m(\u001b[0m\u001b[0;34m)\u001b[0m\u001b[0;34m.\u001b[0m\u001b[0msystem\u001b[0m\u001b[0;34m(\u001b[0m\u001b[0;34m'cp -r /content/drive/MyDrive/2021-04-23T18-19-01_ffhq_transformer logs/'\u001b[0m\u001b[0;34m)\u001b[0m\u001b[0;34m\u001b[0m\u001b[0;34m\u001b[0m\u001b[0m\n",
            "\u001b[0;32m/usr/local/lib/python3.7/dist-packages/google/colab/drive.py\u001b[0m in \u001b[0;36mmount\u001b[0;34m(mountpoint, force_remount, timeout_ms)\u001b[0m\n\u001b[1;32m    107\u001b[0m       \u001b[0mforce_remount\u001b[0m\u001b[0;34m=\u001b[0m\u001b[0mforce_remount\u001b[0m\u001b[0;34m,\u001b[0m\u001b[0;34m\u001b[0m\u001b[0;34m\u001b[0m\u001b[0m\n\u001b[1;32m    108\u001b[0m       \u001b[0mtimeout_ms\u001b[0m\u001b[0;34m=\u001b[0m\u001b[0mtimeout_ms\u001b[0m\u001b[0;34m,\u001b[0m\u001b[0;34m\u001b[0m\u001b[0;34m\u001b[0m\u001b[0m\n\u001b[0;32m--> 109\u001b[0;31m       ephemeral=True)\n\u001b[0m\u001b[1;32m    110\u001b[0m \u001b[0;34m\u001b[0m\u001b[0m\n\u001b[1;32m    111\u001b[0m \u001b[0;34m\u001b[0m\u001b[0m\n",
            "\u001b[0;32m/usr/local/lib/python3.7/dist-packages/google/colab/drive.py\u001b[0m in \u001b[0;36m_mount\u001b[0;34m(mountpoint, force_remount, timeout_ms, ephemeral)\u001b[0m\n\u001b[1;32m    122\u001b[0m   \u001b[0;32mif\u001b[0m \u001b[0mephemeral\u001b[0m\u001b[0;34m:\u001b[0m\u001b[0;34m\u001b[0m\u001b[0;34m\u001b[0m\u001b[0m\n\u001b[1;32m    123\u001b[0m     _message.blocking_request(\n\u001b[0;32m--> 124\u001b[0;31m         'request_auth', request={'authType': 'dfs_ephemeral'}, timeout_sec=None)\n\u001b[0m\u001b[1;32m    125\u001b[0m \u001b[0;34m\u001b[0m\u001b[0m\n\u001b[1;32m    126\u001b[0m   \u001b[0mmountpoint\u001b[0m \u001b[0;34m=\u001b[0m \u001b[0m_os\u001b[0m\u001b[0;34m.\u001b[0m\u001b[0mpath\u001b[0m\u001b[0;34m.\u001b[0m\u001b[0mexpanduser\u001b[0m\u001b[0;34m(\u001b[0m\u001b[0mmountpoint\u001b[0m\u001b[0;34m)\u001b[0m\u001b[0;34m\u001b[0m\u001b[0;34m\u001b[0m\u001b[0m\n",
            "\u001b[0;32m/usr/local/lib/python3.7/dist-packages/google/colab/_message.py\u001b[0m in \u001b[0;36mblocking_request\u001b[0;34m(request_type, request, timeout_sec, parent)\u001b[0m\n\u001b[1;32m    173\u001b[0m   request_id = send_request(\n\u001b[1;32m    174\u001b[0m       request_type, request, parent=parent, expect_reply=True)\n\u001b[0;32m--> 175\u001b[0;31m   \u001b[0;32mreturn\u001b[0m \u001b[0mread_reply_from_input\u001b[0m\u001b[0;34m(\u001b[0m\u001b[0mrequest_id\u001b[0m\u001b[0;34m,\u001b[0m \u001b[0mtimeout_sec\u001b[0m\u001b[0;34m)\u001b[0m\u001b[0;34m\u001b[0m\u001b[0;34m\u001b[0m\u001b[0m\n\u001b[0m",
            "\u001b[0;32m/usr/local/lib/python3.7/dist-packages/google/colab/_message.py\u001b[0m in \u001b[0;36mread_reply_from_input\u001b[0;34m(message_id, timeout_sec)\u001b[0m\n\u001b[1;32m    104\u001b[0m         reply.get('colab_msg_id') == message_id):\n\u001b[1;32m    105\u001b[0m       \u001b[0;32mif\u001b[0m \u001b[0;34m'error'\u001b[0m \u001b[0;32min\u001b[0m \u001b[0mreply\u001b[0m\u001b[0;34m:\u001b[0m\u001b[0;34m\u001b[0m\u001b[0;34m\u001b[0m\u001b[0m\n\u001b[0;32m--> 106\u001b[0;31m         \u001b[0;32mraise\u001b[0m \u001b[0mMessageError\u001b[0m\u001b[0;34m(\u001b[0m\u001b[0mreply\u001b[0m\u001b[0;34m[\u001b[0m\u001b[0;34m'error'\u001b[0m\u001b[0;34m]\u001b[0m\u001b[0;34m)\u001b[0m\u001b[0;34m\u001b[0m\u001b[0;34m\u001b[0m\u001b[0m\n\u001b[0m\u001b[1;32m    107\u001b[0m       \u001b[0;32mreturn\u001b[0m \u001b[0mreply\u001b[0m\u001b[0;34m.\u001b[0m\u001b[0mget\u001b[0m\u001b[0;34m(\u001b[0m\u001b[0;34m'data'\u001b[0m\u001b[0;34m,\u001b[0m \u001b[0;32mNone\u001b[0m\u001b[0;34m)\u001b[0m\u001b[0;34m\u001b[0m\u001b[0;34m\u001b[0m\u001b[0m\n\u001b[1;32m    108\u001b[0m \u001b[0;34m\u001b[0m\u001b[0m\n",
            "\u001b[0;31mMessageError\u001b[0m: Error: credential propagation was unsuccessful"
          ]
        }
      ]
    },
    {
      "cell_type": "markdown",
      "metadata": {
        "id": "eeBqWgMQDjZb"
      },
      "source": [
        "Next, we install required dependencies."
      ]
    },
    {
      "cell_type": "code",
      "metadata": {
        "id": "hzQNmIuT_0uF"
      },
      "source": [
        "!pip install --upgrade omegaconf einops transformers pytorch-lightning"
      ],
      "execution_count": null,
      "outputs": []
    },
    {
      "cell_type": "markdown",
      "metadata": {
        "id": "5gaAQZXTxFxD"
      },
      "source": [
        "## Loading the model\n",
        "\n",
        "We load and print the config."
      ]
    },
    {
      "cell_type": "code",
      "metadata": {
        "id": "hUOUJaTj02Bq"
      },
      "source": [
        "import sys\n",
        "%cd /content/taming-transformers\n",
        "sys.path.append(\".\")\n",
        "from omegaconf import OmegaConf\n",
        "config_path = \"/content/taming-transformers/logs/2021-04-23T18-19-01_ffhq_transformer/configs/2021-04-23T18-19-01-project.yaml\"\n",
        "config = OmegaConf.load(config_path)\n",
        "import yaml\n",
        "print(yaml.dump(OmegaConf.to_container(config)))"
      ],
      "execution_count": null,
      "outputs": []
    },
    {
      "cell_type": "markdown",
      "metadata": {
        "id": "FzQqNgiLEJ9J"
      },
      "source": [
        "Instantiate the model and load the checkpoint."
      ]
    },
    {
      "cell_type": "code",
      "metadata": {
        "id": "sWvDDVoz3RB4"
      },
      "source": [
        "from taming.models.cond_transformer import Net2NetTransformer\n",
        "import torch\n",
        "model = Net2NetTransformer(**config.model.params)\n",
        "ckpt_path = \"/content/taming-transformers/logs/2021-04-23T18-19-01_ffhq_transformer/checkpoints/last.ckpt\"\n",
        "sd = torch.load(ckpt_path, map_location=\"cuda\")[\"state_dict\"]\n",
        "missing, unexpected = model.load_state_dict(sd, strict=False)"
      ],
      "execution_count": null,
      "outputs": []
    },
    {
      "cell_type": "code",
      "metadata": {
        "id": "iYN9cREY-r3N"
      },
      "source": [
        "model.cuda().eval()\n",
        "torch.set_grad_enabled(False)"
      ],
      "execution_count": null,
      "outputs": []
    },
    {
      "cell_type": "markdown",
      "source": [
        "## Tuning Hyperparameters\n"
      ],
      "metadata": {
        "id": "29DGEB0cxT5F"
      }
    },
    {
      "cell_type": "code",
      "source": [
        "%cd /content\n",
        "!wget --no-check-certificate --user=corso --password=p2021corso http://www.grip.unina.it/download/corso/ffhq_real.zip\n",
        "!unzip -q ffhq_real.zip\n",
        "#!rm -d 0_real\n",
        "#!rm ffhq_real.zip\n",
        "%mkdir -p /content/ffhq/real\n",
        "%mkdir -p /content/ffhq/synthesized"
      ],
      "metadata": {
        "id": "XuxH4KeWf2IL"
      },
      "execution_count": null,
      "outputs": []
    },
    {
      "cell_type": "code",
      "source": [
        "%cd /content/taming-transformers\n",
        "from scripts.sample_fast import run\n",
        "from tqdm import tqdm\n",
        "from PIL import Image\n",
        "import numpy as np\n",
        "import os \n",
        "import tensorflow as tf\n",
        "%cd /content"
      ],
      "metadata": {
        "id": "FVD5XZKhxuHV"
      },
      "execution_count": null,
      "outputs": []
    },
    {
      "cell_type": "code",
      "source": [
        "## \n",
        "batch_size = 3\n",
        "\n",
        "trainmodel = tf.keras.models.load_model('/content/drive/MyDrive/my_keras_model.h5')\n",
        "\n",
        "logdir=\"/content/ffhq/synthesized/\"\n",
        "\n",
        "def loss(k, p, temp):\n",
        "    %rm /content/ffhq/synthesized/*\n",
        "    %cd /content/ffhq/real/\n",
        "    %mv * /content/0_real/\n",
        "    %cd /content/0_real/\n",
        "    %mv $(ls | shuf -n $num_samples) ../ffhq/real/\n",
        "    run(logdir, model, batch_size, temp, k, unconditional=model.be_unconditional, num_samples=num_samples, top_p=p)\n",
        "    dataset = tf.keras.utils.image_dataset_from_directory(\n",
        "        '/content/ffhq/',\n",
        "        labels='inferred',\n",
        "        label_mode='categorical',\n",
        "        color_mode='rgb',\n",
        "        batch_size=5,\n",
        "        image_size=(256, 256),\n",
        "        shuffle=True,\n",
        "        validation_split=0,\n",
        "        interpolation='bilinear',\n",
        "        crop_to_aspect_ratio=True,\n",
        "    )\n",
        "    loss, AUC, accuracy = trainmodel.evaluate(dataset)\n",
        "    print('||tested with top_k:', k, '- top_p:',p,'- temperature: ',t)\n",
        "    return AUC"
      ],
      "metadata": {
        "id": "ATQqlmXwxss1"
      },
      "execution_count": null,
      "outputs": []
    },
    {
      "cell_type": "code",
      "source": [
        "# minimize AUC (loss function)\n",
        "import csv\n",
        "\n",
        "num_samples = 35\n",
        "ks = np.arange(220, 421, 20)\n",
        "ps = np.arange(0.8, 1.0, 0.05)\n",
        "ts = np.arange(0.85, 1.15, 0.05)\n",
        "\n",
        "\n",
        "%cd /content/drive/MyDrive\n",
        "for n in range(500):\n",
        "    k = int(np.random.choice(ks))\n",
        "    p = np.random.choice(ps)\n",
        "    t = np.random.choice(ts)\n",
        "    l = loss(k, p, t)\n",
        "    print(\"n:\",n+1)\n",
        "    test = (k, p, t, l)\n",
        "    with open ('/content/drive/MyDrive/export.csv','a',newline = '') as csvfile:\n",
        "        my_writer = csv.writer(csvfile, delimiter = ',')\n",
        "        my_writer.writerow(test)\n",
        "        csvfile.close()"
      ],
      "metadata": {
        "id": "t-06XDxZiPyl"
      },
      "execution_count": null,
      "outputs": []
    },
    {
      "cell_type": "markdown",
      "metadata": {
        "id": "ftDWneY3zJZ5"
      },
      "source": [
        "## Generate image samples\n",
        "Generated images will be saved in `logdir/samples/top_k_{top_k}_top_p_{top_p}/`\n",
        "as PNGs\n",
        "\n",
        "if you wish to display the generated images instead of saving them in logdir, \n",
        "set save = False\n"
      ]
    },
    {
      "cell_type": "code",
      "source": [
        "num_samples = 1000\n",
        "batch_size = 3\n",
        "top_k = 300\n",
        "top_p = 1.0\n",
        "temperature = 1.0\n",
        "\n",
        "save = True\n",
        "logdir=\"/content/drive/MyDrive/\"\n",
        "\n",
        "if (not a.isEmpty):\n",
        "    top_k = a[0].k\n",
        "    top_p = a[0].p \n",
        "    temperature = a[0].t"
      ],
      "metadata": {
        "id": "-CjPHdSRv_kv"
      },
      "execution_count": null,
      "outputs": []
    },
    {
      "cell_type": "code",
      "source": [
        "from scripts.sample_fast import sample_unconditional\n",
        "from tqdm import tqdm\n",
        "from PIL import Image\n",
        "import numpy as np\n",
        "\n",
        "def show_image(s):\n",
        "  s = s.detach().cpu().numpy().transpose(0,2,3,1)[0]\n",
        "  s = ((s+1.0)*127.5).clip(0,255).astype(np.uint8)\n",
        "  s = Image.fromarray(s)\n",
        "  display(s)\n",
        "\n",
        "@torch.no_grad()\n",
        "def run_live(model, batch_size, temperature, top_k, unconditional=True, num_samples=50000, top_p=None):\n",
        "    print(f\"Running in unconditional sampling mode, producing {num_samples} samples.\")\n",
        "    batches = [batch_size for _ in range(num_samples//batch_size)] + [num_samples % batch_size]\n",
        "    for n, bs in tqdm(enumerate(batches), desc=\"Sampling\"):\n",
        "        if bs == 0: break\n",
        "        logs = sample_unconditional(model, batch_size=bs, temperature=temperature, top_k=top_k, top_p=top_p)\n",
        "        show_image(logs[\"samples\"])"
      ],
      "metadata": {
        "id": "Jc36JX3yzDZU"
      },
      "execution_count": null,
      "outputs": []
    },
    {
      "cell_type": "code",
      "source": [
        "from scripts.sample_fast import run\n",
        "import os \n",
        "\n",
        "if save == True:\n",
        "    logdir = os.path.join(logdir, \"samples\", f\"top_k_{top_k}_top_p_{top_p}\")\n",
        "    print(f\"Logging to {logdir}\")\n",
        "    os.makedirs(logdir, exist_ok=True)\n",
        "    run(logdir, model, batch_size, temperature, top_k, unconditional=model.be_unconditional, num_samples=num_samples, top_p=top_p)\n",
        "else:\n",
        "    print(f\"Generating with top_k = {top_k}, top_p = {top_p}\")\n",
        "    run_live(model, batch_size, temperature, top_k, unconditional=model.be_unconditional, num_samples=num_samples, top_p=top_p)"
      ],
      "metadata": {
        "id": "XnF32AnQxnyA"
      },
      "execution_count": null,
      "outputs": []
    }
  ]
}