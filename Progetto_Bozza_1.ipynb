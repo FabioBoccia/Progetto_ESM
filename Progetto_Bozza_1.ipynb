{
  "nbformat": 4,
  "nbformat_minor": 0,
  "metadata": {
    "colab": {
      "name": "Copy of Copy of Progetto_Bozza_1.ipynb",
      "provenance": [],
      "collapsed_sections": [],
      "include_colab_link": true
    },
    "kernelspec": {
      "name": "python3",
      "display_name": "Python 3"
    },
    "language_info": {
      "name": "python"
    },
    "accelerator": "GPU"
  },
  "cells": [
    {
      "cell_type": "markdown",
      "metadata": {
        "id": "view-in-github",
        "colab_type": "text"
      },
      "source": [
        "<a href=\"https://colab.research.google.com/github/FabioBoccia/Progetto_ESM/blob/dev/Progetto_Bozza_1.ipynb\" target=\"_parent\"><img src=\"https://colab.research.google.com/assets/colab-badge.svg\" alt=\"Open In Colab\"/></a>"
      ]
    },
    {
      "cell_type": "code",
      "source": [
        "%rm -r sample_data\n",
        "!wget --user=corso --password=p2021corso http://www.grip.unina.it/download/corso/ffhq_real.zip\n",
        "!unzip -q ffhq_real.zip\n",
        "!mkdir -p ffhq/train/real\n",
        "!mkdir -p ffhq/train/synthesized\n",
        "!mkdir -p ffhq/test/real\n",
        "!mkdir -p ffhq/test/synthesized\n",
        "%cd /content/0_real/\n",
        "!mv $(ls | shuf -n 2500) ../ffhq/train/real/\n",
        "!mv * ../ffhq/test/real/\n",
        "%cd ..\n",
        "!rm -d 0_real\n",
        "\n",
        "!pip install tensorflow_io"
      ],
      "metadata": {
        "id": "j81hHyT9cB4t"
      },
      "execution_count": null,
      "outputs": []
    },
    {
      "cell_type": "code",
      "source": [
        "# synthesized examples are missing, this block of code is purely for testing grammar and syntax for the rest of the script\n",
        "# !cp ffhq/train/real/* ffhq/train/synthesized/\n",
        "# !cp ffhq/test/real/* ffhq/test/synthesized/"
      ],
      "metadata": {
        "id": "YQIZZWBlk2yE"
      },
      "execution_count": null,
      "outputs": []
    },
    {
      "cell_type": "code",
      "source": [
        "!%reset -f\n",
        "import numpy as np\n",
        "import matplotlib.pyplot as plt\n",
        "import skimage.io as io\n",
        "import tensorflow as tf"
      ],
      "metadata": {
        "id": "VAs3Yto65dAc"
      },
      "execution_count": null,
      "outputs": []
    },
    {
      "cell_type": "code",
      "source": [
        "batch_size = 32\n",
        "interpolation = 'bilinear'\n",
        "train_dataset = tf.keras.utils.image_dataset_from_directory(\n",
        "    'ffhq/train/',\n",
        "    labels='inferred',\n",
        "    label_mode='binary',\n",
        "    color_mode='rgb',\n",
        "    batch_size=batch_size,\n",
        "    image_size=(256, 256),\n",
        "    shuffle=True,\n",
        "    seed=125,\n",
        "    validation_split=1/5, # Validation is 1/6 of the total, so 1/5 of (total - test)\n",
        "    subset='training',\n",
        "    interpolation=interpolation,\n",
        "    crop_to_aspect_ratio=True,\n",
        ")\n",
        "val_dataset = tf.keras.utils.image_dataset_from_directory(\n",
        "    'ffhq/train/',\n",
        "    labels='inferred',\n",
        "    label_mode='binary',\n",
        "    color_mode='rgb',\n",
        "    batch_size=batch_size,\n",
        "    image_size=(256, 256),\n",
        "    shuffle=True,\n",
        "    seed=125,\n",
        "    validation_split=1/5,\n",
        "    subset='validation',\n",
        "    interpolation=interpolation,\n",
        "    crop_to_aspect_ratio=True,\n",
        ")"
      ],
      "metadata": {
        "id": "9TbVW9iEdHHr"
      },
      "execution_count": null,
      "outputs": []
    },
    {
      "cell_type": "code",
      "source": [
        "k = tf.random.uniform(\n",
        "        shape=[],\n",
        "        minval=0.0,\n",
        "        maxval=3.0,\n",
        "        dtype=tf.dtypes.float32\n",
        "    )\n",
        "print(k)"
      ],
      "metadata": {
        "id": "3uuqVA6upVE5"
      },
      "execution_count": null,
      "outputs": []
    },
    {
      "cell_type": "code",
      "source": [
        "# Preprocessing\n",
        "import tensorflow_io as tfio\n",
        "\n",
        "d = 3\n",
        "def randomGaussianBlur(x):\n",
        "    k = tf.random.uniform(\n",
        "        shape=[],\n",
        "        minval=0.0,\n",
        "        maxval=3.0,\n",
        "        dtype=tf.float32\n",
        "    )\n",
        "    return tfio.experimental.filter.gaussian(x, d, k)\n",
        "\n",
        "def randomRot90(x):\n",
        "    k = tf.random.uniform(\n",
        "        shape=[],\n",
        "        minval=0,\n",
        "        maxval=4,\n",
        "        dtype=tf.dtypes.int32,\n",
        "        seed=None,\n",
        "        name=None\n",
        "    )\n",
        "    return tf.image.rot90(x, k)\n",
        "\n",
        "def preprocess(x):\n",
        "    y = tf.keras.layers.CenterCrop(224,224)(x)\n",
        "    y = tf.keras.layers.Rescaling(1./127.5, offset=-1)(x)\n",
        "    return y\n",
        "\n",
        "def augment(x):\n",
        "    y = randomGaussianBlur(x)\n",
        "    y = randomRot90(x)\n",
        "    return y\n",
        "\n",
        "val_dataset = val_dataset.map(lambda x, y: (preprocess(x), y))\n",
        "train_dataset = train_dataset.map(lambda x, y: (augment(preprocess(x)), y))"
      ],
      "metadata": {
        "id": "O1bUYLvMj2pE"
      },
      "execution_count": null,
      "outputs": []
    },
    {
      "cell_type": "code",
      "source": [
        "# Reference: https://www.tensorflow.org/tutorials/load_data/images#configure_the_dataset_for_performance\n",
        "AUTOTUNE = tf.data.AUTOTUNE\n",
        "\n",
        "train_dataset = train_dataset.cache().prefetch(buffer_size=AUTOTUNE)\n",
        "val_dataset = val_dataset.cache().prefetch(buffer_size=AUTOTUNE)"
      ],
      "metadata": {
        "id": "cjSEiSr1rkMa"
      },
      "execution_count": null,
      "outputs": []
    },
    {
      "cell_type": "code",
      "source": [
        "base_model = tf.keras.applications.Xception(\n",
        "    include_top=False,\n",
        "    weights='imagenet',\n",
        "    input_tensor=None,\n",
        "    input_shape=(256,256,3),\n",
        "    pooling=None, # hyperparameter?\n",
        ")\n",
        "#train_dataset = tf.keras.applications.xception.preprocess_input(train_dataset)\n",
        "#val_dataset = tf.keras.applications.xception.preprocess_input(val_dataset)"
      ],
      "metadata": {
        "id": "deb1ezHKrzE4"
      },
      "execution_count": null,
      "outputs": []
    },
    {
      "cell_type": "code",
      "source": [
        "opt = tf.keras.optimizers.Adam(\n",
        "    learning_rate=0.001,\n",
        "    beta_1=0.9,\n",
        "    beta_2=0.999,\n",
        "    epsilon=1e-07,\n",
        "    amsgrad=False,\n",
        ")\n",
        "loss = tf.keras.losses.BinaryCrossentropy(\n",
        "    from_logits=False,\n",
        "    label_smoothing=0.0,\n",
        "    axis=-1,\n",
        "    reduction=tf.keras.losses.Reduction.AUTO,\n",
        ")\n",
        "metric = tf.keras.metrics.AUC(\n",
        "    num_thresholds=200,\n",
        "    curve='ROC',\n",
        "    summation_method='interpolation',\n",
        "    name=None,\n",
        "    dtype=None,\n",
        "    thresholds=None,\n",
        "    multi_label=False,\n",
        "    num_labels=None,\n",
        "    label_weights=None,\n",
        "    from_logits=False # ??\n",
        ")\n",
        "\n",
        "train_after_layer = 100\n",
        "for layer in base_model.layers[:train_after_layer]:\n",
        "    layer.trainable = False\n",
        "\n",
        "model = tf.keras.models.Sequential()\n",
        "model.add(base_model)\n",
        "model.add(tf.keras.layers.GlobalMaxPooling2D())\n",
        "model.add(tf.keras.layers.Dense(1, activation='softmax'))\n",
        "\n",
        "model.compile(\n",
        "    optimizer=opt,\n",
        "    loss=loss,\n",
        "    metrics=metric\n",
        ")\n",
        "model.summary()"
      ],
      "metadata": {
        "id": "oACkh7F-wkGe"
      },
      "execution_count": null,
      "outputs": []
    },
    {
      "cell_type": "code",
      "source": [
        "from google.colab import drive\n",
        "drive.mount('/content/drive')\n",
        "\n",
        "batch_size=1000\n",
        "epochs = 2\n",
        "for i in range(51):\n",
        "    model.fit(\n",
        "        train_dataset,\n",
        "        batch_size=batch_size,\n",
        "        epochs=(1+i)*epochs,\n",
        "        initial_epoch=i*epochs,\n",
        "        verbose=\"auto\",\n",
        "        #validation_data=val_dataset,\n",
        "        #validation_freq=1,\n",
        "        shuffle=True,\n",
        "    )\n",
        "    loss, AUC = model.evaluate(val_dataset)\n",
        "    model.save_weights('drive/MyDrive/pesi_ffhq/%d_%.3f_%.3f.h5' %((i+1)*epochs, loss, AUC))"
      ],
      "metadata": {
        "id": "FQ4UgBcCx4px"
      },
      "execution_count": null,
      "outputs": []
    }
  ]
}